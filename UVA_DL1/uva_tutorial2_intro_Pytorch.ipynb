{
  "nbformat": 4,
  "nbformat_minor": 0,
  "metadata": {
    "colab": {
      "provenance": []
    },
    "kernelspec": {
      "name": "python3",
      "display_name": "Python 3"
    },
    "language_info": {
      "name": "python"
    },
    "widgets": {
      "application/vnd.jupyter.widget-state+json": {
        "52bb423ade704e398c079ebce1496d55": {
          "model_module": "@jupyter-widgets/controls",
          "model_name": "HBoxModel",
          "model_module_version": "1.5.0",
          "state": {
            "_dom_classes": [],
            "_model_module": "@jupyter-widgets/controls",
            "_model_module_version": "1.5.0",
            "_model_name": "HBoxModel",
            "_view_count": null,
            "_view_module": "@jupyter-widgets/controls",
            "_view_module_version": "1.5.0",
            "_view_name": "HBoxView",
            "box_style": "",
            "children": [
              "IPY_MODEL_4f24f15fd8f7435c97b4ccdcf6ae96bf",
              "IPY_MODEL_1a1bc5a8966a43a7b577ffa3cf5db9a2",
              "IPY_MODEL_09c58559ec1c4b8ca305e78ab5b0359b"
            ],
            "layout": "IPY_MODEL_9860e24060d24623a0d48a2b716ddf70"
          }
        },
        "4f24f15fd8f7435c97b4ccdcf6ae96bf": {
          "model_module": "@jupyter-widgets/controls",
          "model_name": "HTMLModel",
          "model_module_version": "1.5.0",
          "state": {
            "_dom_classes": [],
            "_model_module": "@jupyter-widgets/controls",
            "_model_module_version": "1.5.0",
            "_model_name": "HTMLModel",
            "_view_count": null,
            "_view_module": "@jupyter-widgets/controls",
            "_view_module_version": "1.5.0",
            "_view_name": "HTMLView",
            "description": "",
            "description_tooltip": null,
            "layout": "IPY_MODEL_f15e7404f9034c3a909610d3a00125f2",
            "placeholder": "​",
            "style": "IPY_MODEL_2858e7214d6844259b4f531a8c63142a",
            "value": "100%"
          }
        },
        "1a1bc5a8966a43a7b577ffa3cf5db9a2": {
          "model_module": "@jupyter-widgets/controls",
          "model_name": "FloatProgressModel",
          "model_module_version": "1.5.0",
          "state": {
            "_dom_classes": [],
            "_model_module": "@jupyter-widgets/controls",
            "_model_module_version": "1.5.0",
            "_model_name": "FloatProgressModel",
            "_view_count": null,
            "_view_module": "@jupyter-widgets/controls",
            "_view_module_version": "1.5.0",
            "_view_name": "ProgressView",
            "bar_style": "success",
            "description": "",
            "description_tooltip": null,
            "layout": "IPY_MODEL_7bad0489f240433889338eb3ebf713ae",
            "max": 100,
            "min": 0,
            "orientation": "horizontal",
            "style": "IPY_MODEL_c084d5443cd14b6cb8c9e7efb8eed250",
            "value": 100
          }
        },
        "09c58559ec1c4b8ca305e78ab5b0359b": {
          "model_module": "@jupyter-widgets/controls",
          "model_name": "HTMLModel",
          "model_module_version": "1.5.0",
          "state": {
            "_dom_classes": [],
            "_model_module": "@jupyter-widgets/controls",
            "_model_module_version": "1.5.0",
            "_model_name": "HTMLModel",
            "_view_count": null,
            "_view_module": "@jupyter-widgets/controls",
            "_view_module_version": "1.5.0",
            "_view_name": "HTMLView",
            "description": "",
            "description_tooltip": null,
            "layout": "IPY_MODEL_075939546e674e22ad4cf2f5cf86efe8",
            "placeholder": "​",
            "style": "IPY_MODEL_bb05ec5b3fb6484983cbefa0443af188",
            "value": " 100/100 [00:03&lt;00:00, 33.60it/s]"
          }
        },
        "9860e24060d24623a0d48a2b716ddf70": {
          "model_module": "@jupyter-widgets/base",
          "model_name": "LayoutModel",
          "model_module_version": "1.2.0",
          "state": {
            "_model_module": "@jupyter-widgets/base",
            "_model_module_version": "1.2.0",
            "_model_name": "LayoutModel",
            "_view_count": null,
            "_view_module": "@jupyter-widgets/base",
            "_view_module_version": "1.2.0",
            "_view_name": "LayoutView",
            "align_content": null,
            "align_items": null,
            "align_self": null,
            "border": null,
            "bottom": null,
            "display": null,
            "flex": null,
            "flex_flow": null,
            "grid_area": null,
            "grid_auto_columns": null,
            "grid_auto_flow": null,
            "grid_auto_rows": null,
            "grid_column": null,
            "grid_gap": null,
            "grid_row": null,
            "grid_template_areas": null,
            "grid_template_columns": null,
            "grid_template_rows": null,
            "height": null,
            "justify_content": null,
            "justify_items": null,
            "left": null,
            "margin": null,
            "max_height": null,
            "max_width": null,
            "min_height": null,
            "min_width": null,
            "object_fit": null,
            "object_position": null,
            "order": null,
            "overflow": null,
            "overflow_x": null,
            "overflow_y": null,
            "padding": null,
            "right": null,
            "top": null,
            "visibility": null,
            "width": null
          }
        },
        "f15e7404f9034c3a909610d3a00125f2": {
          "model_module": "@jupyter-widgets/base",
          "model_name": "LayoutModel",
          "model_module_version": "1.2.0",
          "state": {
            "_model_module": "@jupyter-widgets/base",
            "_model_module_version": "1.2.0",
            "_model_name": "LayoutModel",
            "_view_count": null,
            "_view_module": "@jupyter-widgets/base",
            "_view_module_version": "1.2.0",
            "_view_name": "LayoutView",
            "align_content": null,
            "align_items": null,
            "align_self": null,
            "border": null,
            "bottom": null,
            "display": null,
            "flex": null,
            "flex_flow": null,
            "grid_area": null,
            "grid_auto_columns": null,
            "grid_auto_flow": null,
            "grid_auto_rows": null,
            "grid_column": null,
            "grid_gap": null,
            "grid_row": null,
            "grid_template_areas": null,
            "grid_template_columns": null,
            "grid_template_rows": null,
            "height": null,
            "justify_content": null,
            "justify_items": null,
            "left": null,
            "margin": null,
            "max_height": null,
            "max_width": null,
            "min_height": null,
            "min_width": null,
            "object_fit": null,
            "object_position": null,
            "order": null,
            "overflow": null,
            "overflow_x": null,
            "overflow_y": null,
            "padding": null,
            "right": null,
            "top": null,
            "visibility": null,
            "width": null
          }
        },
        "2858e7214d6844259b4f531a8c63142a": {
          "model_module": "@jupyter-widgets/controls",
          "model_name": "DescriptionStyleModel",
          "model_module_version": "1.5.0",
          "state": {
            "_model_module": "@jupyter-widgets/controls",
            "_model_module_version": "1.5.0",
            "_model_name": "DescriptionStyleModel",
            "_view_count": null,
            "_view_module": "@jupyter-widgets/base",
            "_view_module_version": "1.2.0",
            "_view_name": "StyleView",
            "description_width": ""
          }
        },
        "7bad0489f240433889338eb3ebf713ae": {
          "model_module": "@jupyter-widgets/base",
          "model_name": "LayoutModel",
          "model_module_version": "1.2.0",
          "state": {
            "_model_module": "@jupyter-widgets/base",
            "_model_module_version": "1.2.0",
            "_model_name": "LayoutModel",
            "_view_count": null,
            "_view_module": "@jupyter-widgets/base",
            "_view_module_version": "1.2.0",
            "_view_name": "LayoutView",
            "align_content": null,
            "align_items": null,
            "align_self": null,
            "border": null,
            "bottom": null,
            "display": null,
            "flex": null,
            "flex_flow": null,
            "grid_area": null,
            "grid_auto_columns": null,
            "grid_auto_flow": null,
            "grid_auto_rows": null,
            "grid_column": null,
            "grid_gap": null,
            "grid_row": null,
            "grid_template_areas": null,
            "grid_template_columns": null,
            "grid_template_rows": null,
            "height": null,
            "justify_content": null,
            "justify_items": null,
            "left": null,
            "margin": null,
            "max_height": null,
            "max_width": null,
            "min_height": null,
            "min_width": null,
            "object_fit": null,
            "object_position": null,
            "order": null,
            "overflow": null,
            "overflow_x": null,
            "overflow_y": null,
            "padding": null,
            "right": null,
            "top": null,
            "visibility": null,
            "width": null
          }
        },
        "c084d5443cd14b6cb8c9e7efb8eed250": {
          "model_module": "@jupyter-widgets/controls",
          "model_name": "ProgressStyleModel",
          "model_module_version": "1.5.0",
          "state": {
            "_model_module": "@jupyter-widgets/controls",
            "_model_module_version": "1.5.0",
            "_model_name": "ProgressStyleModel",
            "_view_count": null,
            "_view_module": "@jupyter-widgets/base",
            "_view_module_version": "1.2.0",
            "_view_name": "StyleView",
            "bar_color": null,
            "description_width": ""
          }
        },
        "075939546e674e22ad4cf2f5cf86efe8": {
          "model_module": "@jupyter-widgets/base",
          "model_name": "LayoutModel",
          "model_module_version": "1.2.0",
          "state": {
            "_model_module": "@jupyter-widgets/base",
            "_model_module_version": "1.2.0",
            "_model_name": "LayoutModel",
            "_view_count": null,
            "_view_module": "@jupyter-widgets/base",
            "_view_module_version": "1.2.0",
            "_view_name": "LayoutView",
            "align_content": null,
            "align_items": null,
            "align_self": null,
            "border": null,
            "bottom": null,
            "display": null,
            "flex": null,
            "flex_flow": null,
            "grid_area": null,
            "grid_auto_columns": null,
            "grid_auto_flow": null,
            "grid_auto_rows": null,
            "grid_column": null,
            "grid_gap": null,
            "grid_row": null,
            "grid_template_areas": null,
            "grid_template_columns": null,
            "grid_template_rows": null,
            "height": null,
            "justify_content": null,
            "justify_items": null,
            "left": null,
            "margin": null,
            "max_height": null,
            "max_width": null,
            "min_height": null,
            "min_width": null,
            "object_fit": null,
            "object_position": null,
            "order": null,
            "overflow": null,
            "overflow_x": null,
            "overflow_y": null,
            "padding": null,
            "right": null,
            "top": null,
            "visibility": null,
            "width": null
          }
        },
        "bb05ec5b3fb6484983cbefa0443af188": {
          "model_module": "@jupyter-widgets/controls",
          "model_name": "DescriptionStyleModel",
          "model_module_version": "1.5.0",
          "state": {
            "_model_module": "@jupyter-widgets/controls",
            "_model_module_version": "1.5.0",
            "_model_name": "DescriptionStyleModel",
            "_view_count": null,
            "_view_module": "@jupyter-widgets/base",
            "_view_module_version": "1.2.0",
            "_view_name": "StyleView",
            "description_width": ""
          }
        }
      }
    }
  },
  "cells": [
    {
      "cell_type": "code",
      "execution_count": null,
      "metadata": {
        "colab": {
          "base_uri": "https://localhost:8080/"
        },
        "id": "v31-bpuV2DK8",
        "outputId": "1928f15e-60af-48df-877e-2c7e8ef08492"
      },
      "outputs": [
        {
          "output_type": "stream",
          "name": "stderr",
          "text": [
            "<ipython-input-64-ef889392170e>:11: DeprecationWarning: `set_matplotlib_formats` is deprecated since IPython 7.23, directly use `matplotlib_inline.backend_inline.set_matplotlib_formats()`\n",
            "  set_matplotlib_formats('svg', 'pdf') # For export\n"
          ]
        }
      ],
      "source": [
        "## Standard libraries\n",
        "import os\n",
        "import math\n",
        "import numpy as np\n",
        "import time\n",
        "\n",
        "## Imports for plotting\n",
        "import matplotlib.pyplot as plt\n",
        "%matplotlib inline\n",
        "from IPython.display import set_matplotlib_formats\n",
        "set_matplotlib_formats('svg', 'pdf') # For export\n",
        "from matplotlib.colors import to_rgba\n",
        "import seaborn as sns\n",
        "sns.set()\n",
        "\n",
        "## Progress bar\n",
        "from tqdm.notebook import tqdm"
      ]
    },
    {
      "cell_type": "code",
      "source": [
        "import torch\n",
        "print(\"Using torch\", torch.__version__)"
      ],
      "metadata": {
        "colab": {
          "base_uri": "https://localhost:8080/"
        },
        "id": "8GvJ_EdO2NId",
        "outputId": "0b4a856c-f840-4d13-c8a4-51910c747343"
      },
      "execution_count": null,
      "outputs": [
        {
          "output_type": "stream",
          "name": "stdout",
          "text": [
            "Using torch 2.0.1+cu118\n"
          ]
        }
      ]
    },
    {
      "cell_type": "code",
      "source": [
        "torch.manual_seed(42) # Setting the seed"
      ],
      "metadata": {
        "colab": {
          "base_uri": "https://localhost:8080/"
        },
        "id": "z_-pPWpl2Q0J",
        "outputId": "2e90f7bb-7467-4888-e7f3-cbc36fb832b9"
      },
      "execution_count": null,
      "outputs": [
        {
          "output_type": "execute_result",
          "data": {
            "text/plain": [
              "<torch._C.Generator at 0x7ea9970ab7f0>"
            ]
          },
          "metadata": {},
          "execution_count": 4
        }
      ]
    },
    {
      "cell_type": "code",
      "source": [
        "x = torch.Tensor(2, 3, 4)\n",
        "print(x)"
      ],
      "metadata": {
        "colab": {
          "base_uri": "https://localhost:8080/"
        },
        "id": "_kbQgWBf2TfD",
        "outputId": "a3526c4d-031c-4bee-aa85-632dd323eec8"
      },
      "execution_count": null,
      "outputs": [
        {
          "output_type": "stream",
          "name": "stdout",
          "text": [
            "tensor([[[-3.0900e+23,  4.5437e-41,  7.2068e+06,  3.0729e-41],\n",
            "         [ 0.0000e+00,  0.0000e+00,  0.0000e+00,  0.0000e+00],\n",
            "         [ 0.0000e+00,  1.8337e+31,  1.8788e+31,  1.7220e+22]],\n",
            "\n",
            "        [[ 2.1715e-18,  5.2592e+22,  8.1346e+20,  1.0384e-08],\n",
            "         [ 2.1160e-07,  1.7187e-04,  1.7156e-07,  5.3366e-08],\n",
            "         [ 1.7395e-04,  6.7566e-07,  2.1707e-18,  1.6678e+19]]])\n"
          ]
        }
      ]
    },
    {
      "cell_type": "code",
      "source": [
        "torch.zeros((2,3,4))"
      ],
      "metadata": {
        "colab": {
          "base_uri": "https://localhost:8080/"
        },
        "id": "MubI_2So2WYN",
        "outputId": "2a37a802-9b80-4e08-b521-3f78dd093c1f"
      },
      "execution_count": null,
      "outputs": [
        {
          "output_type": "execute_result",
          "data": {
            "text/plain": [
              "tensor([[[0., 0., 0., 0.],\n",
              "         [0., 0., 0., 0.],\n",
              "         [0., 0., 0., 0.]],\n",
              "\n",
              "        [[0., 0., 0., 0.],\n",
              "         [0., 0., 0., 0.],\n",
              "         [0., 0., 0., 0.]]])"
            ]
          },
          "metadata": {},
          "execution_count": 6
        }
      ]
    },
    {
      "cell_type": "code",
      "source": [
        "torch.ones((2,3,4))"
      ],
      "metadata": {
        "colab": {
          "base_uri": "https://localhost:8080/"
        },
        "id": "k2F4v-Sb2bOS",
        "outputId": "834e20e4-a6f3-4a75-e0f8-f954df45f0e1"
      },
      "execution_count": null,
      "outputs": [
        {
          "output_type": "execute_result",
          "data": {
            "text/plain": [
              "tensor([[[1., 1., 1., 1.],\n",
              "         [1., 1., 1., 1.],\n",
              "         [1., 1., 1., 1.]],\n",
              "\n",
              "        [[1., 1., 1., 1.],\n",
              "         [1., 1., 1., 1.],\n",
              "         [1., 1., 1., 1.]]])"
            ]
          },
          "metadata": {},
          "execution_count": 7
        }
      ]
    },
    {
      "cell_type": "code",
      "source": [
        "torch.rand((2,3,4))"
      ],
      "metadata": {
        "colab": {
          "base_uri": "https://localhost:8080/"
        },
        "id": "tcmYfGj32d4D",
        "outputId": "ee358c4f-52c2-48e1-b049-0b1dde761907"
      },
      "execution_count": null,
      "outputs": [
        {
          "output_type": "execute_result",
          "data": {
            "text/plain": [
              "tensor([[[0.8823, 0.9150, 0.3829, 0.9593],\n",
              "         [0.3904, 0.6009, 0.2566, 0.7936],\n",
              "         [0.9408, 0.1332, 0.9346, 0.5936]],\n",
              "\n",
              "        [[0.8694, 0.5677, 0.7411, 0.4294],\n",
              "         [0.8854, 0.5739, 0.2666, 0.6274],\n",
              "         [0.2696, 0.4414, 0.2969, 0.8317]]])"
            ]
          },
          "metadata": {},
          "execution_count": 8
        }
      ]
    },
    {
      "cell_type": "code",
      "source": [
        "torch.randn((2,3))"
      ],
      "metadata": {
        "colab": {
          "base_uri": "https://localhost:8080/"
        },
        "id": "bcIXrbTB2gq8",
        "outputId": "3a62ee34-3d97-481c-8d66-dd73b4698e38"
      },
      "execution_count": null,
      "outputs": [
        {
          "output_type": "execute_result",
          "data": {
            "text/plain": [
              "tensor([[ 1.1103, -1.6898, -0.9890],\n",
              "        [ 0.9580,  1.3221,  0.8172]])"
            ]
          },
          "metadata": {},
          "execution_count": 9
        }
      ]
    },
    {
      "cell_type": "code",
      "source": [
        "torch.arange(1,6,2)"
      ],
      "metadata": {
        "colab": {
          "base_uri": "https://localhost:8080/"
        },
        "id": "7LUT-DBt2kna",
        "outputId": "06eb6ffe-2ab9-4f4a-a186-aa628c2fc2c3"
      },
      "execution_count": null,
      "outputs": [
        {
          "output_type": "execute_result",
          "data": {
            "text/plain": [
              "tensor([1, 3, 5])"
            ]
          },
          "metadata": {},
          "execution_count": 10
        }
      ]
    },
    {
      "cell_type": "code",
      "source": [
        "torch.Tensor([[1, 2], [3, 4]])"
      ],
      "metadata": {
        "colab": {
          "base_uri": "https://localhost:8080/"
        },
        "id": "-8JKCMV32pfq",
        "outputId": "16cd094c-d0e2-449f-bae4-ed53c7ea21af"
      },
      "execution_count": null,
      "outputs": [
        {
          "output_type": "execute_result",
          "data": {
            "text/plain": [
              "tensor([[1., 2.],\n",
              "        [3., 4.]])"
            ]
          },
          "metadata": {},
          "execution_count": 11
        }
      ]
    },
    {
      "cell_type": "code",
      "source": [
        "x.shape"
      ],
      "metadata": {
        "colab": {
          "base_uri": "https://localhost:8080/"
        },
        "id": "aD_nZdD_2xdY",
        "outputId": "8eadc951-83a3-40c3-fb42-d285bd7a5ff8"
      },
      "execution_count": null,
      "outputs": [
        {
          "output_type": "execute_result",
          "data": {
            "text/plain": [
              "torch.Size([2, 3, 4])"
            ]
          },
          "metadata": {},
          "execution_count": 12
        }
      ]
    },
    {
      "cell_type": "code",
      "source": [
        "x.size()"
      ],
      "metadata": {
        "colab": {
          "base_uri": "https://localhost:8080/"
        },
        "id": "nDdIYsVS20kh",
        "outputId": "2d38c46c-9438-4204-df5b-211bfe2a0979"
      },
      "execution_count": null,
      "outputs": [
        {
          "output_type": "execute_result",
          "data": {
            "text/plain": [
              "torch.Size([2, 3, 4])"
            ]
          },
          "metadata": {},
          "execution_count": 13
        }
      ]
    },
    {
      "cell_type": "code",
      "source": [
        "'''\n",
        "Transfer between numpy and tensor.\n",
        "Many statistical calculation package only based on numpy, so need to trans.\n",
        "'''"
      ],
      "metadata": {
        "colab": {
          "base_uri": "https://localhost:8080/",
          "height": 35
        },
        "id": "WlkKz6zFCStF",
        "outputId": "18607211-a8f6-4ee8-8c56-231de6bef9eb"
      },
      "execution_count": null,
      "outputs": [
        {
          "output_type": "execute_result",
          "data": {
            "text/plain": [
              "'\\nTransfer between numpy and tensor.\\nMany statistical calculation package only based on numpy, so need to trans.\\n'"
            ],
            "application/vnd.google.colaboratory.intrinsic+json": {
              "type": "string"
            }
          },
          "metadata": {},
          "execution_count": 14
        }
      ]
    },
    {
      "cell_type": "code",
      "source": [
        "np_arr = np.array([[1, 2], [3, 4]])\n",
        "tensor = torch.from_numpy(np_arr)\n",
        "\n",
        "print(\"Numpy array:\", np_arr)\n",
        "print(\"PyTorch tensor:\", tensor)"
      ],
      "metadata": {
        "colab": {
          "base_uri": "https://localhost:8080/"
        },
        "id": "vUjQn2Zw22ya",
        "outputId": "e85665d2-1405-422f-d9e4-c17c414eab12"
      },
      "execution_count": null,
      "outputs": [
        {
          "output_type": "stream",
          "name": "stdout",
          "text": [
            "Numpy array: [[1 2]\n",
            " [3 4]]\n",
            "PyTorch tensor: tensor([[1, 2],\n",
            "        [3, 4]])\n"
          ]
        }
      ]
    },
    {
      "cell_type": "code",
      "source": [
        "tensor = torch.arange(4)\n",
        "np_arr = tensor.numpy()\n",
        "\n",
        "print(\"PyTorch tensor:\", tensor)\n",
        "print(\"Numpy array:\", np_arr)"
      ],
      "metadata": {
        "colab": {
          "base_uri": "https://localhost:8080/"
        },
        "id": "_dsCpVfICONc",
        "outputId": "05c272f4-421c-430f-8f8a-595d82d2be2d"
      },
      "execution_count": null,
      "outputs": [
        {
          "output_type": "stream",
          "name": "stdout",
          "text": [
            "PyTorch tensor: tensor([0, 1, 2, 3])\n",
            "Numpy array: [0 1 2 3]\n"
          ]
        }
      ]
    },
    {
      "cell_type": "code",
      "source": [
        "# Operations\n",
        "\n",
        "x1 = torch.rand(2, 3)\n",
        "x2 = torch.rand(2, 3)\n",
        "y = x1 + x2\n",
        "\n",
        "print(\"X1\", x1)\n",
        "print(\"X2\", x2)\n",
        "print(\"Y\", y)"
      ],
      "metadata": {
        "colab": {
          "base_uri": "https://localhost:8080/"
        },
        "id": "GvyqPoVqCSAM",
        "outputId": "5b7968bb-ffc1-41d7-a4e0-1f5740a3a4a8"
      },
      "execution_count": null,
      "outputs": [
        {
          "output_type": "stream",
          "name": "stdout",
          "text": [
            "X1 tensor([[0.5779, 0.9040, 0.5547],\n",
            "        [0.3423, 0.6343, 0.3644]])\n",
            "X2 tensor([[0.7104, 0.9464, 0.7890],\n",
            "        [0.2814, 0.7886, 0.5895]])\n",
            "Y tensor([[1.2884, 1.8504, 1.3437],\n",
            "        [0.6237, 1.4230, 0.9539]])\n"
          ]
        }
      ]
    },
    {
      "cell_type": "code",
      "source": [
        "x1 = torch.rand(2, 3)\n",
        "x2 = torch.rand(2, 3)\n",
        "print(\"X1 (before)\", x1)\n",
        "print(\"X2 (before)\", x2)\n",
        "\n",
        "x2.add_(x1)\n",
        "print(\"X1 (after)\", x1)\n",
        "print(\"X2 (after)\", x2) #In-place operation, do not use new memory."
      ],
      "metadata": {
        "colab": {
          "base_uri": "https://localhost:8080/"
        },
        "id": "1wccMUD2CrMY",
        "outputId": "92ceea93-38e3-49b9-d99b-b2cbf9d8d311"
      },
      "execution_count": null,
      "outputs": [
        {
          "output_type": "stream",
          "name": "stdout",
          "text": [
            "X1 (before) tensor([[0.7539, 0.1952, 0.0050],\n",
            "        [0.3068, 0.1165, 0.9103]])\n",
            "X2 (before) tensor([[0.6440, 0.7071, 0.6581],\n",
            "        [0.4913, 0.8913, 0.1447]])\n",
            "X1 (after) tensor([[0.7539, 0.1952, 0.0050],\n",
            "        [0.3068, 0.1165, 0.9103]])\n",
            "X2 (after) tensor([[1.3979, 0.9024, 0.6632],\n",
            "        [0.7981, 1.0078, 1.0550]])\n"
          ]
        }
      ]
    },
    {
      "cell_type": "code",
      "source": [
        "x = torch.arange(6)\n",
        "print(\"X\", x)\n",
        "\n",
        "x.view((2,3))"
      ],
      "metadata": {
        "colab": {
          "base_uri": "https://localhost:8080/"
        },
        "id": "5oNabtzfCtHt",
        "outputId": "ca54141c-dedc-4ba9-a3a1-d404a7dd6d3c"
      },
      "execution_count": null,
      "outputs": [
        {
          "output_type": "stream",
          "name": "stdout",
          "text": [
            "X tensor([0, 1, 2, 3, 4, 5])\n"
          ]
        },
        {
          "output_type": "execute_result",
          "data": {
            "text/plain": [
              "tensor([[0, 1, 2],\n",
              "        [3, 4, 5]])"
            ]
          },
          "metadata": {},
          "execution_count": 19
        }
      ]
    },
    {
      "cell_type": "code",
      "source": [
        "x.reshape((2,3))"
      ],
      "metadata": {
        "colab": {
          "base_uri": "https://localhost:8080/"
        },
        "id": "oCfnV_2zC84x",
        "outputId": "8b2b151d-c39d-4061-8f1b-5a9f5ed7a77b"
      },
      "execution_count": null,
      "outputs": [
        {
          "output_type": "execute_result",
          "data": {
            "text/plain": [
              "tensor([[0, 1, 2],\n",
              "        [3, 4, 5]])"
            ]
          },
          "metadata": {},
          "execution_count": 20
        }
      ]
    },
    {
      "cell_type": "code",
      "source": [
        "x = x.view(2, 3)\n",
        "x = x.permute(1, 0) # Swapping dimension 0 and 1\n",
        "print(\"X\", x)\n"
      ],
      "metadata": {
        "colab": {
          "base_uri": "https://localhost:8080/"
        },
        "id": "-0WFN-T4C-6u",
        "outputId": "efe7609c-3d8a-45a3-c38b-2380f8309af9"
      },
      "execution_count": null,
      "outputs": [
        {
          "output_type": "stream",
          "name": "stdout",
          "text": [
            "X tensor([[0, 3],\n",
            "        [1, 4],\n",
            "        [2, 5]])\n"
          ]
        }
      ]
    },
    {
      "cell_type": "code",
      "source": [
        "# Dynamic Computation Graph and Backpropagation"
      ],
      "metadata": {
        "id": "iIb2A_10DCCa"
      },
      "execution_count": null,
      "outputs": []
    },
    {
      "cell_type": "code",
      "source": [
        "x = torch.ones((3,))\n",
        "print(x.requires_grad)"
      ],
      "metadata": {
        "colab": {
          "base_uri": "https://localhost:8080/"
        },
        "id": "e9Y4etsODUmh",
        "outputId": "e30af87f-f816-4183-b450-3fe70d4ced46"
      },
      "execution_count": null,
      "outputs": [
        {
          "output_type": "stream",
          "name": "stdout",
          "text": [
            "False\n"
          ]
        }
      ]
    },
    {
      "cell_type": "code",
      "source": [
        "x.requires_grad_(True)\n",
        "print(x.requires_grad)"
      ],
      "metadata": {
        "colab": {
          "base_uri": "https://localhost:8080/"
        },
        "id": "ECCfv8C-DUpB",
        "outputId": "d09b4928-8e10-46ea-ef22-1990334a3fcb"
      },
      "execution_count": null,
      "outputs": [
        {
          "output_type": "stream",
          "name": "stdout",
          "text": [
            "True\n"
          ]
        }
      ]
    },
    {
      "cell_type": "code",
      "source": [
        "x = torch.arange(3, dtype=torch.float32, requires_grad=True) # Only float tensors can have gradients\n",
        "print(\"X\", x)"
      ],
      "metadata": {
        "colab": {
          "base_uri": "https://localhost:8080/"
        },
        "id": "bRIk4i2gHxz-",
        "outputId": "ac74be59-ef55-4041-ca80-0583a6dbe3eb"
      },
      "execution_count": null,
      "outputs": [
        {
          "output_type": "stream",
          "name": "stdout",
          "text": [
            "X tensor([0., 1., 2.], requires_grad=True)\n"
          ]
        }
      ]
    },
    {
      "cell_type": "code",
      "source": [
        "a = x + 2\n",
        "b = a ** 2\n",
        "c = b + 3\n",
        "y = c.mean()\n",
        "print(\"Y\", y)"
      ],
      "metadata": {
        "colab": {
          "base_uri": "https://localhost:8080/"
        },
        "id": "NMs0MvqmHx4i",
        "outputId": "9d5ff98f-4306-4281-8762-0235d75d6c85"
      },
      "execution_count": null,
      "outputs": [
        {
          "output_type": "stream",
          "name": "stdout",
          "text": [
            "Y tensor(12.6667, grad_fn=<MeanBackward0>)\n"
          ]
        }
      ]
    },
    {
      "cell_type": "code",
      "source": [
        "y.backward()"
      ],
      "metadata": {
        "id": "_HgG8-1mHx7N"
      },
      "execution_count": null,
      "outputs": []
    },
    {
      "cell_type": "code",
      "source": [
        "print(x.grad)"
      ],
      "metadata": {
        "colab": {
          "base_uri": "https://localhost:8080/"
        },
        "id": "nJ1HmBR2Hx-F",
        "outputId": "1f228deb-136d-4459-cc2b-62a313b63aff"
      },
      "execution_count": null,
      "outputs": [
        {
          "output_type": "stream",
          "name": "stdout",
          "text": [
            "tensor([1.3333, 2.0000, 2.6667])\n"
          ]
        }
      ]
    },
    {
      "cell_type": "code",
      "source": [
        "'''\n",
        "Check GPU\n",
        "'''\n",
        "\n",
        "gpu_avail = torch.cuda.is_available()\n",
        "print(f\"Is the GPU available? {gpu_avail}\")"
      ],
      "metadata": {
        "colab": {
          "base_uri": "https://localhost:8080/"
        },
        "id": "RbBqEjIxDUrl",
        "outputId": "194f51ba-be39-47f6-d3c5-c28c739917c9"
      },
      "execution_count": null,
      "outputs": [
        {
          "output_type": "stream",
          "name": "stdout",
          "text": [
            "Is the GPU available? False\n"
          ]
        }
      ]
    },
    {
      "cell_type": "code",
      "source": [
        "device = torch.device(\"cuda\") if torch.cuda.is_available() else torch.device(\"cpu\")\n",
        "print(\"Device\", device)\n",
        "\n",
        "x = torch.zeros(2, 3)\n",
        "x = x.to(device)\n",
        "print(\"X\", x)"
      ],
      "metadata": {
        "colab": {
          "base_uri": "https://localhost:8080/"
        },
        "id": "ItefelvSFbCz",
        "outputId": "b189e1ad-f074-4499-c8e2-cbcc7eebd946"
      },
      "execution_count": null,
      "outputs": [
        {
          "output_type": "stream",
          "name": "stdout",
          "text": [
            "Device cpu\n",
            "X tensor([[0., 0., 0.],\n",
            "        [0., 0., 0.]])\n"
          ]
        }
      ]
    },
    {
      "cell_type": "code",
      "source": [
        "x = torch.randn(5000, 5000)\n",
        "\n",
        "## CPU version\n",
        "start_time = time.time()\n",
        "_ = torch.matmul(x, x)\n",
        "end_time = time.time()\n",
        "print(f\"CPU time: {(end_time - start_time):6.5f}s\") #0.20694s\n",
        "\n",
        "## GPU version\n",
        "x = x.to(device)\n",
        "_ = torch.matmul(x, x)  # First operation to 'burn in' GPU\n",
        "# CUDA is asynchronous, so we need to use different timing functions\n",
        "start = torch.cuda.Event(enable_timing=True)\n",
        "end = torch.cuda.Event(enable_timing=True)\n",
        "start.record()\n",
        "_ = torch.matmul(x, x)\n",
        "end.record()\n",
        "torch.cuda.synchronize()  # Waits for everything to finish running on the GPU\n",
        "print(f\"GPU time: {0.001 * start.elapsed_time(end):6.5f}s\")  # Milliseconds to seconds. #GPU time: 0.00985s\n",
        "# Not have GPU here."
      ],
      "metadata": {
        "colab": {
          "base_uri": "https://localhost:8080/",
          "height": 437
        },
        "id": "kYz_q4LsHFT5",
        "outputId": "bf4d5c3b-ba9d-4c3d-cc60-09617e687203"
      },
      "execution_count": null,
      "outputs": [
        {
          "output_type": "stream",
          "name": "stdout",
          "text": [
            "CPU time: 2.72262s\n"
          ]
        },
        {
          "output_type": "error",
          "ename": "RuntimeError",
          "evalue": "ignored",
          "traceback": [
            "\u001b[0;31m---------------------------------------------------------------------------\u001b[0m",
            "\u001b[0;31mRuntimeError\u001b[0m                              Traceback (most recent call last)",
            "\u001b[0;32m<ipython-input-32-36d0e62d97bc>\u001b[0m in \u001b[0;36m<cell line: 15>\u001b[0;34m()\u001b[0m\n\u001b[1;32m     13\u001b[0m \u001b[0mstart\u001b[0m \u001b[0;34m=\u001b[0m \u001b[0mtorch\u001b[0m\u001b[0;34m.\u001b[0m\u001b[0mcuda\u001b[0m\u001b[0;34m.\u001b[0m\u001b[0mEvent\u001b[0m\u001b[0;34m(\u001b[0m\u001b[0menable_timing\u001b[0m\u001b[0;34m=\u001b[0m\u001b[0;32mTrue\u001b[0m\u001b[0;34m)\u001b[0m\u001b[0;34m\u001b[0m\u001b[0;34m\u001b[0m\u001b[0m\n\u001b[1;32m     14\u001b[0m \u001b[0mend\u001b[0m \u001b[0;34m=\u001b[0m \u001b[0mtorch\u001b[0m\u001b[0;34m.\u001b[0m\u001b[0mcuda\u001b[0m\u001b[0;34m.\u001b[0m\u001b[0mEvent\u001b[0m\u001b[0;34m(\u001b[0m\u001b[0menable_timing\u001b[0m\u001b[0;34m=\u001b[0m\u001b[0;32mTrue\u001b[0m\u001b[0;34m)\u001b[0m\u001b[0;34m\u001b[0m\u001b[0;34m\u001b[0m\u001b[0m\n\u001b[0;32m---> 15\u001b[0;31m \u001b[0mstart\u001b[0m\u001b[0;34m.\u001b[0m\u001b[0mrecord\u001b[0m\u001b[0;34m(\u001b[0m\u001b[0;34m)\u001b[0m\u001b[0;34m\u001b[0m\u001b[0;34m\u001b[0m\u001b[0m\n\u001b[0m\u001b[1;32m     16\u001b[0m \u001b[0m_\u001b[0m \u001b[0;34m=\u001b[0m \u001b[0mtorch\u001b[0m\u001b[0;34m.\u001b[0m\u001b[0mmatmul\u001b[0m\u001b[0;34m(\u001b[0m\u001b[0mx\u001b[0m\u001b[0;34m,\u001b[0m \u001b[0mx\u001b[0m\u001b[0;34m)\u001b[0m\u001b[0;34m\u001b[0m\u001b[0;34m\u001b[0m\u001b[0m\n\u001b[1;32m     17\u001b[0m \u001b[0mend\u001b[0m\u001b[0;34m.\u001b[0m\u001b[0mrecord\u001b[0m\u001b[0;34m(\u001b[0m\u001b[0;34m)\u001b[0m\u001b[0;34m\u001b[0m\u001b[0;34m\u001b[0m\u001b[0m\n",
            "\u001b[0;32m/usr/local/lib/python3.10/dist-packages/torch/cuda/streams.py\u001b[0m in \u001b[0;36mrecord\u001b[0;34m(self, stream)\u001b[0m\n\u001b[1;32m    177\u001b[0m         stream's device must match the event's device.\"\"\"\n\u001b[1;32m    178\u001b[0m         \u001b[0;32mif\u001b[0m \u001b[0mstream\u001b[0m \u001b[0;32mis\u001b[0m \u001b[0;32mNone\u001b[0m\u001b[0;34m:\u001b[0m\u001b[0;34m\u001b[0m\u001b[0;34m\u001b[0m\u001b[0m\n\u001b[0;32m--> 179\u001b[0;31m             \u001b[0mstream\u001b[0m \u001b[0;34m=\u001b[0m \u001b[0mtorch\u001b[0m\u001b[0;34m.\u001b[0m\u001b[0mcuda\u001b[0m\u001b[0;34m.\u001b[0m\u001b[0mcurrent_stream\u001b[0m\u001b[0;34m(\u001b[0m\u001b[0;34m)\u001b[0m\u001b[0;34m\u001b[0m\u001b[0;34m\u001b[0m\u001b[0m\n\u001b[0m\u001b[1;32m    180\u001b[0m         \u001b[0msuper\u001b[0m\u001b[0;34m(\u001b[0m\u001b[0;34m)\u001b[0m\u001b[0;34m.\u001b[0m\u001b[0mrecord\u001b[0m\u001b[0;34m(\u001b[0m\u001b[0mstream\u001b[0m\u001b[0;34m)\u001b[0m\u001b[0;34m\u001b[0m\u001b[0;34m\u001b[0m\u001b[0m\n\u001b[1;32m    181\u001b[0m \u001b[0;34m\u001b[0m\u001b[0m\n",
            "\u001b[0;32m/usr/local/lib/python3.10/dist-packages/torch/cuda/__init__.py\u001b[0m in \u001b[0;36mcurrent_stream\u001b[0;34m(device)\u001b[0m\n\u001b[1;32m    711\u001b[0m             \u001b[0;34m(\u001b[0m\u001b[0mdefault\u001b[0m\u001b[0;34m)\u001b[0m\u001b[0;34m.\u001b[0m\u001b[0;34m\u001b[0m\u001b[0;34m\u001b[0m\u001b[0m\n\u001b[1;32m    712\u001b[0m     \"\"\"\n\u001b[0;32m--> 713\u001b[0;31m     \u001b[0m_lazy_init\u001b[0m\u001b[0;34m(\u001b[0m\u001b[0;34m)\u001b[0m\u001b[0;34m\u001b[0m\u001b[0;34m\u001b[0m\u001b[0m\n\u001b[0m\u001b[1;32m    714\u001b[0m     streamdata = torch._C._cuda_getCurrentStream(\n\u001b[1;32m    715\u001b[0m         _get_device_index(device, optional=True))\n",
            "\u001b[0;32m/usr/local/lib/python3.10/dist-packages/torch/cuda/__init__.py\u001b[0m in \u001b[0;36m_lazy_init\u001b[0;34m()\u001b[0m\n\u001b[1;32m    245\u001b[0m         \u001b[0;32mif\u001b[0m \u001b[0;34m'CUDA_MODULE_LOADING'\u001b[0m \u001b[0;32mnot\u001b[0m \u001b[0;32min\u001b[0m \u001b[0mos\u001b[0m\u001b[0;34m.\u001b[0m\u001b[0menviron\u001b[0m\u001b[0;34m:\u001b[0m\u001b[0;34m\u001b[0m\u001b[0;34m\u001b[0m\u001b[0m\n\u001b[1;32m    246\u001b[0m             \u001b[0mos\u001b[0m\u001b[0;34m.\u001b[0m\u001b[0menviron\u001b[0m\u001b[0;34m[\u001b[0m\u001b[0;34m'CUDA_MODULE_LOADING'\u001b[0m\u001b[0;34m]\u001b[0m \u001b[0;34m=\u001b[0m \u001b[0;34m'LAZY'\u001b[0m\u001b[0;34m\u001b[0m\u001b[0;34m\u001b[0m\u001b[0m\n\u001b[0;32m--> 247\u001b[0;31m         \u001b[0mtorch\u001b[0m\u001b[0;34m.\u001b[0m\u001b[0m_C\u001b[0m\u001b[0;34m.\u001b[0m\u001b[0m_cuda_init\u001b[0m\u001b[0;34m(\u001b[0m\u001b[0;34m)\u001b[0m\u001b[0;34m\u001b[0m\u001b[0;34m\u001b[0m\u001b[0m\n\u001b[0m\u001b[1;32m    248\u001b[0m         \u001b[0;31m# Some of the queued calls may reentrantly call _lazy_init();\u001b[0m\u001b[0;34m\u001b[0m\u001b[0;34m\u001b[0m\u001b[0m\n\u001b[1;32m    249\u001b[0m         \u001b[0;31m# we need to just return without initializing in that case.\u001b[0m\u001b[0;34m\u001b[0m\u001b[0;34m\u001b[0m\u001b[0m\n",
            "\u001b[0;31mRuntimeError\u001b[0m: Found no NVIDIA driver on your system. Please check that you have an NVIDIA GPU and installed a driver from http://www.nvidia.com/Download/index.aspx"
          ]
        }
      ]
    },
    {
      "cell_type": "code",
      "source": [
        "'''\n",
        "Build model\n",
        "Learning by example: Continuous XOR：\n",
        "  If we want to build a nn, we need specify our parameters (weight matrix and bias vectors) using Tensors (requires_grid = True),\n",
        "  Then calculate gradients, and then adjust parameters.\n",
        "  Pytorch: torch.nn  help building nn more convinient.\n",
        "  An example: XOR classification\n",
        "    Label 1: one of x1 and x2 is 1, the other one is 0.\n",
        "    Label 0: all other cases.\n",
        "    Put XOR into continuous space + introduce some gaussian noise.\n",
        "'''"
      ],
      "metadata": {
        "colab": {
          "base_uri": "https://localhost:8080/",
          "height": 89
        },
        "id": "m1km6qTHInIi",
        "outputId": "13f010b1-8f05-417e-f421-70f087d28f5a"
      },
      "execution_count": null,
      "outputs": [
        {
          "output_type": "execute_result",
          "data": {
            "text/plain": [
              "'\\nBuild model\\nLearning by example: Continuous XOR：\\n  If we want to build a nn, we need specify our parameters (weight matrix and bias vectors) using Tensors (requires_grid = True),\\n  Then calculate gradients, and then adjust parameters.\\n  Pytorch: torch.nn  help building nn more convinient.\\n  An example: XOR classification\\n    Label 1: one of x1 and x2 is 1, the other one is 0.\\n    Label 0: all other cases.\\n    Put XOR into continuous space + introduce some gaussian noise.\\n'"
            ],
            "application/vnd.google.colaboratory.intrinsic+json": {
              "type": "string"
            }
          },
          "metadata": {},
          "execution_count": 4
        }
      ]
    },
    {
      "cell_type": "code",
      "source": [
        "### The model\n",
        "# torch.nn: define some useful classes, ex: layers, activation functions, loss functions.\n",
        "# torch.nn.functional: functions used in network layers.\n",
        "import torch.nn as nn\n",
        "import torch.nn.functional as F\n",
        "\n",
        "'''\n",
        "Neural network is a module.\n",
        "Also, in pytorch, a neural network is built up out of modules.\n",
        "Modules can contain other modules (NN is a module based on other modules).\n",
        "The basic template of a module:\n",
        "'''\n",
        "class MyModule(nn.Module):\n",
        "\n",
        "    def __init__(self):\n",
        "        super().__init__()\n",
        "        # Some init for my module\n",
        "        # In the init function, we usually create the parameters of the module, using nn.Parameter, or defining other modules that are used in the forward function.\n",
        "\n",
        "    def forward(self, x):\n",
        "        # Function for performing the calculation of the module.\n",
        "        # The forward function is where the computation of the module is taken place, and is executed when you call the module (nn = MyModule(); nn(x)).\n",
        "        pass\n",
        "\n",
        "        # The backward calculation is done automatically, but could be overwritten as well if wanted.\n",
        "        # So __init__: used to define other modules will be used.\n",
        "        # forword: define what calculation will be applied used defined modules."
      ],
      "metadata": {
        "id": "0VB0gG891Px9"
      },
      "execution_count": null,
      "outputs": []
    },
    {
      "cell_type": "code",
      "source": [
        "'''\n",
        "hyperparameters: num_inputs, num_hidden, num_outputs\n",
        "Alreay defined when create classifier module.\n",
        "ex: x = (x1, x2) as input\n",
        "'''\n",
        "\n",
        "class SimpleClassifier(nn.Module):\n",
        "\n",
        "    def __init__(self, num_inputs, num_hidden, num_outputs):\n",
        "        super().__init__()\n",
        "        # Initialize the modules we need to build the network\n",
        "        self.linear1 = nn.Linear(num_inputs, num_hidden)\n",
        "        self.act_fn = nn.Tanh()\n",
        "        self.linear2 = nn.Linear(num_hidden, num_outputs)\n",
        "\n",
        "    def forward(self, x):\n",
        "        # Perform the calculation of the model to determine the prediction\n",
        "        x = self.linear1(x) # return linear transformed x\n",
        "        x = self.act_fn(x) # return activayed x\n",
        "        x = self.linear2(x) # return output\n",
        "        return x"
      ],
      "metadata": {
        "id": "mg0Rogv71Vvv"
      },
      "execution_count": null,
      "outputs": []
    },
    {
      "cell_type": "code",
      "source": [
        "'''\n",
        "For the examples in this notebook, we will use a tiny neural network with two input neurons and four hidden neurons.\n",
        "As we perform binary classification, we will use a single output neuron.\n",
        "Note that we do not apply a sigmoid on the output yet.\n",
        "This is because other functions, especially the loss, are more efficient and precise to calculate on the original outputs instead of the sigmoid output.\n",
        "We will discuss the detailed reason later.\n",
        "'''\n",
        "\n",
        "model = SimpleClassifier(num_inputs=2, num_hidden=4, num_outputs=1)\n",
        "\n",
        "# Printing a module shows all its submodules\n",
        "print(model)\n",
        "\n",
        "'''\n",
        "The parameters of a module can be obtained by using its parameters() functions, or named_parameters() to get a name to each parameter object.\n",
        "For our small neural network, we have the following parameters:\n",
        "'''\n",
        "\n",
        "for name, param in model.named_parameters():\n",
        "    print(f\"Parameter {name}, shape {param.shape}\")"
      ],
      "metadata": {
        "colab": {
          "base_uri": "https://localhost:8080/"
        },
        "id": "dIDIhlQn1Vyj",
        "outputId": "cfc5ad86-b0ed-48d7-bbd8-31097a845188"
      },
      "execution_count": null,
      "outputs": [
        {
          "output_type": "stream",
          "name": "stdout",
          "text": [
            "SimpleClassifier(\n",
            "  (linear1): Linear(in_features=2, out_features=4, bias=True)\n",
            "  (act_fn): Tanh()\n",
            "  (linear2): Linear(in_features=4, out_features=1, bias=True)\n",
            ")\n",
            "Parameter linear1.weight, shape torch.Size([4, 2])\n",
            "Parameter linear1.bias, shape torch.Size([4])\n",
            "Parameter linear2.weight, shape torch.Size([1, 4])\n",
            "Parameter linear2.bias, shape torch.Size([1])\n"
          ]
        }
      ]
    },
    {
      "cell_type": "code",
      "source": [
        "for i in model.parameters():\n",
        "  print(\"I:\", i)"
      ],
      "metadata": {
        "colab": {
          "base_uri": "https://localhost:8080/"
        },
        "id": "ibtnA0UY1V1a",
        "outputId": "a9369b8d-bf65-4f00-a1a9-3e49a89793c9"
      },
      "execution_count": null,
      "outputs": [
        {
          "output_type": "stream",
          "name": "stdout",
          "text": [
            "I: Parameter containing:\n",
            "tensor([[ 0.6636, -0.5352],\n",
            "        [ 0.4347, -0.0900],\n",
            "        [ 0.4238, -0.5006],\n",
            "        [-0.2457,  0.1416]], requires_grad=True)\n",
            "I: Parameter containing:\n",
            "tensor([ 0.3265, -0.2607, -0.5156, -0.2014], requires_grad=True)\n",
            "I: Parameter containing:\n",
            "tensor([[-0.2344,  0.3007, -0.0931, -0.1128]], requires_grad=True)\n",
            "I: Parameter containing:\n",
            "tensor([0.3589], requires_grad=True)\n"
          ]
        }
      ]
    },
    {
      "cell_type": "code",
      "source": [
        "model.named_parameters()"
      ],
      "metadata": {
        "colab": {
          "base_uri": "https://localhost:8080/"
        },
        "id": "wwsRneIP1V36",
        "outputId": "c3849cf7-c20b-463c-8145-4c63ef3dcb07"
      },
      "execution_count": null,
      "outputs": [
        {
          "output_type": "execute_result",
          "data": {
            "text/plain": [
              "<generator object Module.named_parameters at 0x7b3c989ed850>"
            ]
          },
          "metadata": {},
          "execution_count": 9
        }
      ]
    },
    {
      "cell_type": "code",
      "source": [
        "'''\n",
        "Data and DataLoader\n",
        "'''\n",
        "\n",
        "import torch.utils.data as data\n",
        "# data.Dataset: provides an uniform interface to access the training/test data.\n",
        "# data.DataLoader: makes sure to efficiently load and stack the data points from the dataset into batches during training. (construct batch)\n",
        "\n",
        "'''\n",
        "The dataset class summarizes the basic functionality of a dataset in a natural way.\n",
        "To define a dataset in PyTorch, we simply specify two functions: __getitem__, and __len__.\n",
        "The get-item function has to return the -th data point in the dataset.\n",
        "While the len function returns the size of the dataset.\n",
        "For the XOR dataset, we can define the dataset class as follows:\n",
        "'''\n",
        "\n",
        "class XORDataset(data.Dataset):\n",
        "\n",
        "    def __init__(self, size, std=0.1):\n",
        "        \"\"\"\n",
        "        Inputs:\n",
        "            size - Number of data points we want to generate\n",
        "            std - Standard deviation of the noise (see generate_continuous_xor function)\n",
        "        \"\"\"\n",
        "        super().__init__()\n",
        "        self.size = size\n",
        "        self.std = std\n",
        "        self.generate_continuous_xor()\n",
        "\n",
        "    def generate_continuous_xor(self):\n",
        "        # Each data point in the XOR dataset has two variables, x and y, that can be either 0 or 1\n",
        "        # The label is their XOR combination, i.e. 1 if only x or only y is 1 while the other is 0.\n",
        "        # If x=y, the label is 0.\n",
        "        data = torch.randint(low=0, high=2, size=(self.size, 2), dtype=torch.float32)\n",
        "        label = (data.sum(dim=1) == 1).to(torch.long)\n",
        "        # To make it slightly more challenging, we add a bit of gaussian noise to the data points.\n",
        "        data += self.std * torch.randn(data.shape)\n",
        "\n",
        "        self.data = data\n",
        "        self.label = label\n",
        "\n",
        "    def __len__(self):\n",
        "        # Number of data point we have. Alternatively self.data.shape[0], or self.label.shape[0]\n",
        "        return self.size\n",
        "\n",
        "    def __getitem__(self, idx):\n",
        "        # Return the idx-th data point of the dataset\n",
        "        # If we have multiple things to return (data point and label), we can return them as tuple\n",
        "        data_point = self.data[idx]\n",
        "        data_label = self.label[idx]\n",
        "        return data_point, data_label"
      ],
      "metadata": {
        "id": "vkLdXkhy1V6w"
      },
      "execution_count": null,
      "outputs": []
    },
    {
      "cell_type": "code",
      "source": [
        "# Then, creat a dataset and check it.\n",
        "dataset = XORDataset(size = 200)\n",
        "print(\"Size of dataset:\", len(dataset))\n",
        "print(\"Size of dataset:\", dataset.__len__)\n",
        "print(\"Data point 0:\", dataset[0])"
      ],
      "metadata": {
        "colab": {
          "base_uri": "https://localhost:8080/"
        },
        "id": "l08itkt1bB4c",
        "outputId": "254480a3-9014-438c-83fc-75b77514430c"
      },
      "execution_count": null,
      "outputs": [
        {
          "output_type": "stream",
          "name": "stdout",
          "text": [
            "Size of dataset: 200\n",
            "Size of dataset: <bound method XORDataset.__len__ of <__main__.XORDataset object at 0x7b3c984ca800>>\n",
            "Data point 0: (tensor([0.7608, 0.9452]), tensor(0))\n"
          ]
        }
      ]
    },
    {
      "cell_type": "code",
      "source": [
        "#print(\"data of dataset:\", dataset.data)\n",
        "print(\"label of dataset:\", dataset.label)\n",
        "print(\"Size of dataset:\", dataset.size)"
      ],
      "metadata": {
        "colab": {
          "base_uri": "https://localhost:8080/"
        },
        "id": "EAoOcBzKcSpV",
        "outputId": "2f0ff550-8881-41f3-f951-871deb396d5f"
      },
      "execution_count": null,
      "outputs": [
        {
          "output_type": "stream",
          "name": "stdout",
          "text": [
            "label of dataset: tensor([0, 1, 1, 0, 1, 0, 0, 1, 1, 1, 0, 1, 1, 0, 0, 1, 0, 0, 1, 1, 1, 0, 1, 1,\n",
            "        0, 1, 0, 0, 1, 0, 1, 1, 0, 0, 0, 1, 0, 0, 0, 1, 1, 1, 0, 1, 1, 0, 1, 0,\n",
            "        0, 0, 1, 0, 0, 1, 1, 0, 1, 1, 1, 1, 1, 1, 1, 1, 0, 1, 0, 0, 1, 0, 0, 1,\n",
            "        0, 0, 0, 1, 1, 0, 1, 0, 0, 1, 1, 0, 0, 0, 1, 0, 0, 1, 0, 1, 0, 1, 1, 0,\n",
            "        0, 0, 0, 1, 1, 1, 0, 0, 1, 1, 1, 0, 1, 0, 0, 1, 1, 1, 1, 0, 1, 1, 1, 1,\n",
            "        1, 1, 1, 1, 1, 0, 0, 0, 1, 1, 1, 0, 0, 0, 0, 1, 0, 0, 1, 0, 1, 1, 1, 1,\n",
            "        1, 0, 0, 1, 1, 0, 0, 0, 0, 0, 0, 1, 1, 0, 1, 1, 1, 0, 0, 0, 0, 1, 0, 1,\n",
            "        1, 1, 1, 0, 1, 1, 0, 0, 0, 0, 0, 1, 0, 0, 1, 0, 1, 1, 0, 0, 0, 0, 1, 0,\n",
            "        1, 1, 0, 1, 0, 0, 1, 0])\n",
            "Size of dataset: 200\n"
          ]
        }
      ]
    },
    {
      "cell_type": "code",
      "source": [
        "isinstance(dataset.data, torch.Tensor)"
      ],
      "metadata": {
        "colab": {
          "base_uri": "https://localhost:8080/"
        },
        "id": "3idkW5XfbB8d",
        "outputId": "a7241f28-00cc-42e9-bea5-80a7aebb4afe"
      },
      "execution_count": null,
      "outputs": [
        {
          "output_type": "execute_result",
          "data": {
            "text/plain": [
              "True"
            ]
          },
          "metadata": {},
          "execution_count": 13
        }
      ]
    },
    {
      "cell_type": "code",
      "source": [
        "dataset.data.cpu().numpy()"
      ],
      "metadata": {
        "colab": {
          "base_uri": "https://localhost:8080/"
        },
        "id": "j_N31L6ubB_d",
        "outputId": "46834374-8bf6-469a-afb8-efb799d1acd4"
      },
      "execution_count": null,
      "outputs": [
        {
          "output_type": "execute_result",
          "data": {
            "text/plain": [
              "array([[ 0.7608012 ,  0.9452223 ],\n",
              "       [ 0.02869256,  0.89683086],\n",
              "       [ 0.02248912,  1.1008589 ],\n",
              "       [ 0.1086429 , -0.13457054],\n",
              "       [ 0.127395  ,  1.0495324 ],\n",
              "       [ 1.2197926 ,  1.0804863 ],\n",
              "       [ 1.1576204 ,  0.9896125 ],\n",
              "       [-0.04251523,  1.0546719 ],\n",
              "       [ 1.1179819 , -0.21576846],\n",
              "       [ 1.0435078 ,  0.06978183],\n",
              "       [ 0.93429595,  0.98375946],\n",
              "       [-0.07023665,  0.8030439 ],\n",
              "       [-0.04135388,  1.0214964 ],\n",
              "       [ 0.10117321, -0.06002751],\n",
              "       [-0.01796788,  0.23591624],\n",
              "       [ 0.02498   ,  0.9100423 ],\n",
              "       [-0.07944458, -0.27783883],\n",
              "       [ 0.01853468,  0.21287203],\n",
              "       [-0.14863531,  0.9902015 ],\n",
              "       [ 0.96047264, -0.01017277],\n",
              "       [-0.06538058,  1.0058619 ],\n",
              "       [ 1.0832111 ,  1.0430056 ],\n",
              "       [ 1.0417181 , -0.03854479],\n",
              "       [ 0.9949322 ,  0.04989896],\n",
              "       [ 1.0137131 ,  0.8794639 ],\n",
              "       [ 1.253497  , -0.12002319],\n",
              "       [ 1.0769854 ,  0.9866148 ],\n",
              "       [ 1.0282966 ,  1.0316359 ],\n",
              "       [-0.02576164,  0.87249815],\n",
              "       [ 0.9725792 ,  0.9800026 ],\n",
              "       [ 0.0535775 ,  0.819232  ],\n",
              "       [ 0.05415804,  0.94838756],\n",
              "       [ 0.05427506, -0.03446249],\n",
              "       [-0.02004224,  0.13318859],\n",
              "       [-0.01965995, -0.07197041],\n",
              "       [ 0.8141061 ,  0.09714268],\n",
              "       [-0.09180006, -0.09983651],\n",
              "       [ 1.1521559 ,  1.0578933 ],\n",
              "       [ 0.09676299, -0.00133414],\n",
              "       [ 0.9336789 ,  0.22539072],\n",
              "       [ 0.87869465,  0.02014292],\n",
              "       [ 0.9681631 , -0.12496396],\n",
              "       [ 0.9395229 ,  0.9929068 ],\n",
              "       [ 1.0303155 ,  0.00192565],\n",
              "       [ 1.0234246 ,  0.13932155],\n",
              "       [ 0.7476579 ,  1.1480523 ],\n",
              "       [ 0.3819681 ,  0.95151407],\n",
              "       [ 1.0894632 ,  1.2391938 ],\n",
              "       [-0.00582653, -0.036237  ],\n",
              "       [ 1.0756086 ,  0.9575337 ],\n",
              "       [ 0.84360194, -0.24500282],\n",
              "       [-0.05587104,  0.04149404],\n",
              "       [ 0.8362408 ,  1.0469146 ],\n",
              "       [ 1.0693722 ,  0.00995748],\n",
              "       [-0.04336871,  1.0059153 ],\n",
              "       [ 0.82149446,  0.90310025],\n",
              "       [ 0.9018009 ,  0.01939909],\n",
              "       [ 1.1662078 , -0.22640148],\n",
              "       [ 1.1867079 , -0.00872197],\n",
              "       [-0.10008588,  1.103841  ],\n",
              "       [-0.11090175,  1.1405381 ],\n",
              "       [ 0.00733977,  1.129511  ],\n",
              "       [ 1.150502  , -0.09605728],\n",
              "       [ 0.9345214 , -0.09071409],\n",
              "       [ 0.95269513,  1.051366  ],\n",
              "       [ 0.96149486,  0.16205864],\n",
              "       [ 1.1309936 ,  1.0110044 ],\n",
              "       [ 1.0216825 ,  1.0925839 ],\n",
              "       [ 1.037613  ,  0.13801233],\n",
              "       [ 0.85386145,  1.0105174 ],\n",
              "       [ 1.0124614 ,  0.97524047],\n",
              "       [ 0.9062176 , -0.13670836],\n",
              "       [ 1.1468495 ,  1.0731893 ],\n",
              "       [ 0.21450245,  0.08048459],\n",
              "       [-0.01730033, -0.06371778],\n",
              "       [ 0.9648568 ,  0.12068345],\n",
              "       [-0.12467023,  0.8724345 ],\n",
              "       [ 0.00313464,  0.1666538 ],\n",
              "       [ 1.1557403 ,  0.05659751],\n",
              "       [ 1.1046922 ,  1.0176603 ],\n",
              "       [ 1.040446  ,  0.8759299 ],\n",
              "       [ 1.0562587 ,  0.04132719],\n",
              "       [ 0.9709807 ,  0.12682706],\n",
              "       [ 1.1574429 ,  1.1874965 ],\n",
              "       [-0.02410411,  0.0121882 ],\n",
              "       [ 0.8997369 ,  1.0383973 ],\n",
              "       [ 0.13649772,  1.0303626 ],\n",
              "       [ 0.15984814, -0.18613577],\n",
              "       [ 0.9953641 ,  1.1145651 ],\n",
              "       [-0.08169955,  0.93602955],\n",
              "       [ 0.9711354 ,  1.0761821 ],\n",
              "       [ 0.10179479,  0.96891177],\n",
              "       [ 1.0675681 ,  1.1266693 ],\n",
              "       [ 0.90408206,  0.13187614],\n",
              "       [ 0.00378682,  1.0552222 ],\n",
              "       [ 1.2543396 ,  1.0865413 ],\n",
              "       [-0.08443142,  0.13074899],\n",
              "       [-0.06148347,  0.06180511],\n",
              "       [ 0.04585139,  0.18035421],\n",
              "       [ 0.9160794 ,  0.07227336],\n",
              "       [ 0.99175495,  0.02198534],\n",
              "       [-0.03373877,  0.9839468 ],\n",
              "       [ 0.9715967 ,  0.9827665 ],\n",
              "       [ 0.15984912, -0.07190631],\n",
              "       [ 0.00223659,  1.1442969 ],\n",
              "       [ 0.8749797 ,  0.07787483],\n",
              "       [-0.05867031,  0.927762  ],\n",
              "       [ 0.09572709,  0.07053034],\n",
              "       [ 1.0721594 , -0.00820346],\n",
              "       [ 0.9483947 ,  0.9233573 ],\n",
              "       [ 1.0212533 ,  1.0946151 ],\n",
              "       [ 0.9117693 , -0.01229034],\n",
              "       [-0.04014139,  0.9102074 ],\n",
              "       [ 1.0038658 , -0.03935821],\n",
              "       [ 1.1555016 ,  0.11359947],\n",
              "       [ 0.99712676,  1.0842974 ],\n",
              "       [ 0.03479754,  1.0641036 ],\n",
              "       [-0.14654027,  0.9596203 ],\n",
              "       [ 0.9694084 , -0.07145932],\n",
              "       [ 0.9494684 ,  0.14788021],\n",
              "       [ 0.83885354,  0.04627163],\n",
              "       [-0.00616997,  0.99702483],\n",
              "       [-0.09199172,  1.004599  ],\n",
              "       [-0.06080098,  1.0929773 ],\n",
              "       [ 0.9795895 , -0.14365205],\n",
              "       [ 1.0121396 ,  0.9711148 ],\n",
              "       [ 0.20546515,  0.01387802],\n",
              "       [-0.08782124, -0.02119892],\n",
              "       [ 0.15060423,  1.2105418 ],\n",
              "       [-0.02909967,  1.0794876 ],\n",
              "       [ 0.9939396 ,  0.04688507],\n",
              "       [ 0.01100087, -0.03887953],\n",
              "       [ 1.0798624 ,  1.0513233 ],\n",
              "       [ 0.90839887,  0.97815573],\n",
              "       [ 1.0629892 ,  0.9633909 ],\n",
              "       [ 1.1896151 , -0.01304928],\n",
              "       [-0.01362468, -0.02475945],\n",
              "       [-0.06079111, -0.09424099],\n",
              "       [ 0.9652399 ,  0.01973584],\n",
              "       [ 1.0757682 ,  0.9543151 ],\n",
              "       [ 1.0675658 ,  0.13544722],\n",
              "       [ 0.95718414,  0.12191627],\n",
              "       [-0.10873351,  1.050286  ],\n",
              "       [ 0.9480094 ,  0.15431911],\n",
              "       [ 1.166701  , -0.04658496],\n",
              "       [ 0.02307617, -0.00339096],\n",
              "       [-0.04098081, -0.01103497],\n",
              "       [ 1.1138732 , -0.10040101],\n",
              "       [ 1.1248286 ,  0.01007757],\n",
              "       [ 0.96626854,  0.9013343 ],\n",
              "       [ 0.04464182, -0.06532453],\n",
              "       [ 0.8551587 ,  0.99831   ],\n",
              "       [ 0.04909932, -0.04700215],\n",
              "       [ 0.88024396,  1.028075  ],\n",
              "       [ 1.0038588 ,  1.0376815 ],\n",
              "       [-0.04946834,  0.95333534],\n",
              "       [ 1.208268  , -0.02736175],\n",
              "       [ 1.1111737 ,  0.8493537 ],\n",
              "       [ 0.784289  ,  0.08157039],\n",
              "       [ 0.9200081 ,  0.02493769],\n",
              "       [ 0.93172115, -0.03659649],\n",
              "       [ 1.0429795 ,  1.0555567 ],\n",
              "       [ 1.0326529 ,  0.9561692 ],\n",
              "       [-0.00448788,  0.09192815],\n",
              "       [-0.09747691,  0.26262227],\n",
              "       [ 0.9326918 , -0.15416695],\n",
              "       [ 0.12295921, -0.02920462],\n",
              "       [ 1.0624343 , -0.19110298],\n",
              "       [ 1.0228435 ,  0.11762957],\n",
              "       [ 1.0819042 ,  0.14125155],\n",
              "       [ 0.11950914,  0.81314236],\n",
              "       [-0.14637734, -0.07393717],\n",
              "       [ 0.09285851,  1.0178789 ],\n",
              "       [ 0.9775832 ,  0.00546748],\n",
              "       [ 0.9122925 ,  1.0231131 ],\n",
              "       [ 1.001084  ,  0.89415115],\n",
              "       [ 0.13720065, -0.19869599],\n",
              "       [ 0.90801287,  1.1508434 ],\n",
              "       [ 0.0156028 ,  0.08985228],\n",
              "       [ 1.0722684 , -0.10491387],\n",
              "       [ 0.16317454,  0.10798176],\n",
              "       [ 1.02922   ,  0.80815756],\n",
              "       [ 0.8404588 , -0.04402652],\n",
              "       [ 0.81085277,  0.9160538 ],\n",
              "       [ 1.0235051 ,  0.04519864],\n",
              "       [ 1.101169  , -0.09946904],\n",
              "       [-0.0511777 ,  0.00348989],\n",
              "       [ 1.0008466 ,  0.90241194],\n",
              "       [ 1.0858405 ,  1.0561554 ],\n",
              "       [ 0.07524101, -0.06548043],\n",
              "       [ 0.99352044,  0.05722453],\n",
              "       [-0.04664589,  0.03897488],\n",
              "       [ 0.05180716,  0.94109285],\n",
              "       [ 0.0511586 ,  1.0159853 ],\n",
              "       [-0.05835786,  0.02326893],\n",
              "       [-0.1716418 ,  0.9931077 ],\n",
              "       [-0.05821523, -0.07391357],\n",
              "       [-0.05041407, -0.01473833],\n",
              "       [ 1.0924989 ,  0.04024415],\n",
              "       [ 0.08370146,  0.14747122]], dtype=float32)"
            ]
          },
          "metadata": {},
          "execution_count": 14
        }
      ]
    },
    {
      "cell_type": "code",
      "source": [
        "dataset.label.cpu().numpy() == 0"
      ],
      "metadata": {
        "colab": {
          "base_uri": "https://localhost:8080/"
        },
        "id": "3mChQk0ZcBvV",
        "outputId": "1a116b18-4a9e-4b38-df02-b714698a5814"
      },
      "execution_count": null,
      "outputs": [
        {
          "output_type": "execute_result",
          "data": {
            "text/plain": [
              "array([ True, False, False,  True, False,  True,  True, False, False,\n",
              "       False,  True, False, False,  True,  True, False,  True,  True,\n",
              "       False, False, False,  True, False, False,  True, False,  True,\n",
              "        True, False,  True, False, False,  True,  True,  True, False,\n",
              "        True,  True,  True, False, False, False,  True, False, False,\n",
              "        True, False,  True,  True,  True, False,  True,  True, False,\n",
              "       False,  True, False, False, False, False, False, False, False,\n",
              "       False,  True, False,  True,  True, False,  True,  True, False,\n",
              "        True,  True,  True, False, False,  True, False,  True,  True,\n",
              "       False, False,  True,  True,  True, False,  True,  True, False,\n",
              "        True, False,  True, False, False,  True,  True,  True,  True,\n",
              "       False, False, False,  True,  True, False, False, False,  True,\n",
              "       False,  True,  True, False, False, False, False,  True, False,\n",
              "       False, False, False, False, False, False, False, False,  True,\n",
              "        True,  True, False, False, False,  True,  True,  True,  True,\n",
              "       False,  True,  True, False,  True, False, False, False, False,\n",
              "       False,  True,  True, False, False,  True,  True,  True,  True,\n",
              "        True,  True, False, False,  True, False, False, False,  True,\n",
              "        True,  True,  True, False,  True, False, False, False, False,\n",
              "        True, False, False,  True,  True,  True,  True,  True, False,\n",
              "        True,  True, False,  True, False, False,  True,  True,  True,\n",
              "        True, False,  True, False, False,  True, False,  True,  True,\n",
              "       False,  True])"
            ]
          },
          "metadata": {},
          "execution_count": 15
        }
      ]
    },
    {
      "cell_type": "code",
      "source": [
        "def visualize_samples(data, label):\n",
        "    if isinstance(data, torch.Tensor):\n",
        "        data = data.cpu().numpy()\n",
        "    if isinstance(label, torch.Tensor):\n",
        "        label = label.cpu().numpy()\n",
        "    data_0 = data[label == 0]\n",
        "    data_1 = data[label == 1]\n",
        "\n",
        "    plt.figure(figsize=(4,4))\n",
        "    plt.scatter(data_0[:,0], data_0[:,1], edgecolor=\"#333\", label=\"Class 0\")\n",
        "    plt.scatter(data_1[:,0], data_1[:,1], edgecolor=\"#333\", label=\"Class 1\")\n",
        "    plt.title(\"Dataset samples\")\n",
        "    plt.ylabel(r\"$x_2$\")\n",
        "    plt.xlabel(r\"$x_1$\")\n",
        "    plt.legend()\n",
        "\n",
        "visualize_samples(dataset.data, dataset.label)\n",
        "plt.show()"
      ],
      "metadata": {
        "colab": {
          "base_uri": "https://localhost:8080/",
          "height": 404
        },
        "id": "O1d0vQT4dBuX",
        "outputId": "efc00325-ada3-4155-802c-02bf28f4f472"
      },
      "execution_count": null,
      "outputs": [
        {
          "output_type": "display_data",
          "data": {
            "text/plain": [
              "<Figure size 400x400 with 1 Axes>"
            ],
            "image/svg+xml": "<?xml version=\"1.0\" encoding=\"utf-8\" standalone=\"no\"?>\n<!DOCTYPE svg PUBLIC \"-//W3C//DTD SVG 1.1//EN\"\n  \"http://www.w3.org/Graphics/SVG/1.1/DTD/svg11.dtd\">\n<svg xmlns:xlink=\"http://www.w3.org/1999/xlink\" width=\"289.424844pt\" height=\"287.037813pt\" viewBox=\"0 0 289.424844 287.037813\" xmlns=\"http://www.w3.org/2000/svg\" version=\"1.1\">\n <metadata>\n  <rdf:RDF xmlns:dc=\"http://purl.org/dc/elements/1.1/\" xmlns:cc=\"http://creativecommons.org/ns#\" xmlns:rdf=\"http://www.w3.org/1999/02/22-rdf-syntax-ns#\">\n   <cc:Work>\n    <dc:type rdf:resource=\"http://purl.org/dc/dcmitype/StillImage\"/>\n    <dc:date>2023-09-11T01:26:20.303816</dc:date>\n    <dc:format>image/svg+xml</dc:format>\n    <dc:creator>\n     <cc:Agent>\n      <dc:title>Matplotlib v3.7.1, https://matplotlib.org/</dc:title>\n     </cc:Agent>\n    </dc:creator>\n   </cc:Work>\n  </rdf:RDF>\n </metadata>\n <defs>\n  <style type=\"text/css\">*{stroke-linejoin: round; stroke-linecap: butt}</style>\n </defs>\n <g id=\"figure_1\">\n  <g id=\"patch_1\">\n   <path d=\"M 0 287.037813 \nL 289.424844 287.037813 \nL 289.424844 0 \nL 0 0 \nz\n\" style=\"fill: #ffffff\"/>\n  </g>\n  <g id=\"axes_1\">\n   <g id=\"patch_2\">\n    <path d=\"M 59.024844 244.078125 \nL 282.224844 244.078125 \nL 282.224844 22.318125 \nL 59.024844 22.318125 \nz\n\" style=\"fill: #eaeaf2\"/>\n   </g>\n   <g id=\"matplotlib.axis_1\">\n    <g id=\"xtick_1\">\n     <g id=\"line2d_1\">\n      <path d=\"M 93.593956 244.078125 \nL 93.593956 22.318125 \n\" clip-path=\"url(#p233d4b0a7f)\" style=\"fill: none; stroke: #ffffff; stroke-linecap: round\"/>\n     </g>\n     <g id=\"text_1\">\n      <!-- 0.0 -->\n      <g style=\"fill: #262626\" transform=\"translate(84.847237 261.936406) scale(0.11 -0.11)\">\n       <defs>\n        <path id=\"DejaVuSans-30\" d=\"M 2034 4250 \nQ 1547 4250 1301 3770 \nQ 1056 3291 1056 2328 \nQ 1056 1369 1301 889 \nQ 1547 409 2034 409 \nQ 2525 409 2770 889 \nQ 3016 1369 3016 2328 \nQ 3016 3291 2770 3770 \nQ 2525 4250 2034 4250 \nz\nM 2034 4750 \nQ 2819 4750 3233 4129 \nQ 3647 3509 3647 2328 \nQ 3647 1150 3233 529 \nQ 2819 -91 2034 -91 \nQ 1250 -91 836 529 \nQ 422 1150 422 2328 \nQ 422 3509 836 4129 \nQ 1250 4750 2034 4750 \nz\n\" transform=\"scale(0.015625)\"/>\n        <path id=\"DejaVuSans-2e\" d=\"M 684 794 \nL 1344 794 \nL 1344 0 \nL 684 0 \nL 684 794 \nz\n\" transform=\"scale(0.015625)\"/>\n       </defs>\n       <use xlink:href=\"#DejaVuSans-30\"/>\n       <use xlink:href=\"#DejaVuSans-2e\" x=\"63.623047\"/>\n       <use xlink:href=\"#DejaVuSans-30\" x=\"95.410156\"/>\n      </g>\n     </g>\n    </g>\n    <g id=\"xtick_2\">\n     <g id=\"line2d_2\">\n      <path d=\"M 164.74113 244.078125 \nL 164.74113 22.318125 \n\" clip-path=\"url(#p233d4b0a7f)\" style=\"fill: none; stroke: #ffffff; stroke-linecap: round\"/>\n     </g>\n     <g id=\"text_2\">\n      <!-- 0.5 -->\n      <g style=\"fill: #262626\" transform=\"translate(155.994412 261.936406) scale(0.11 -0.11)\">\n       <defs>\n        <path id=\"DejaVuSans-35\" d=\"M 691 4666 \nL 3169 4666 \nL 3169 4134 \nL 1269 4134 \nL 1269 2991 \nQ 1406 3038 1543 3061 \nQ 1681 3084 1819 3084 \nQ 2600 3084 3056 2656 \nQ 3513 2228 3513 1497 \nQ 3513 744 3044 326 \nQ 2575 -91 1722 -91 \nQ 1428 -91 1123 -41 \nQ 819 9 494 109 \nL 494 744 \nQ 775 591 1075 516 \nQ 1375 441 1709 441 \nQ 2250 441 2565 725 \nQ 2881 1009 2881 1497 \nQ 2881 1984 2565 2268 \nQ 2250 2553 1709 2553 \nQ 1456 2553 1204 2497 \nQ 953 2441 691 2322 \nL 691 4666 \nz\n\" transform=\"scale(0.015625)\"/>\n       </defs>\n       <use xlink:href=\"#DejaVuSans-30\"/>\n       <use xlink:href=\"#DejaVuSans-2e\" x=\"63.623047\"/>\n       <use xlink:href=\"#DejaVuSans-35\" x=\"95.410156\"/>\n      </g>\n     </g>\n    </g>\n    <g id=\"xtick_3\">\n     <g id=\"line2d_3\">\n      <path d=\"M 235.888305 244.078125 \nL 235.888305 22.318125 \n\" clip-path=\"url(#p233d4b0a7f)\" style=\"fill: none; stroke: #ffffff; stroke-linecap: round\"/>\n     </g>\n     <g id=\"text_3\">\n      <!-- 1.0 -->\n      <g style=\"fill: #262626\" transform=\"translate(227.141586 261.936406) scale(0.11 -0.11)\">\n       <defs>\n        <path id=\"DejaVuSans-31\" d=\"M 794 531 \nL 1825 531 \nL 1825 4091 \nL 703 3866 \nL 703 4441 \nL 1819 4666 \nL 2450 4666 \nL 2450 531 \nL 3481 531 \nL 3481 0 \nL 794 0 \nL 794 531 \nz\n\" transform=\"scale(0.015625)\"/>\n       </defs>\n       <use xlink:href=\"#DejaVuSans-31\"/>\n       <use xlink:href=\"#DejaVuSans-2e\" x=\"63.623047\"/>\n       <use xlink:href=\"#DejaVuSans-30\" x=\"95.410156\"/>\n      </g>\n     </g>\n    </g>\n    <g id=\"text_4\">\n     <!-- $x_1$ -->\n     <g style=\"fill: #262626\" transform=\"translate(164.204844 277.342188) scale(0.12 -0.12)\">\n      <defs>\n       <path id=\"DejaVuSans-Oblique-78\" d=\"M 3841 3500 \nL 2234 1784 \nL 3219 0 \nL 2559 0 \nL 1819 1388 \nL 531 0 \nL -166 0 \nL 1556 1844 \nL 641 3500 \nL 1300 3500 \nL 1972 2234 \nL 3144 3500 \nL 3841 3500 \nz\n\" transform=\"scale(0.015625)\"/>\n      </defs>\n      <use xlink:href=\"#DejaVuSans-Oblique-78\" transform=\"translate(0 0.3125)\"/>\n      <use xlink:href=\"#DejaVuSans-31\" transform=\"translate(59.179688 -16.09375) scale(0.7)\"/>\n     </g>\n    </g>\n   </g>\n   <g id=\"matplotlib.axis_2\">\n    <g id=\"ytick_1\">\n     <g id=\"line2d_4\">\n      <path d=\"M 59.024844 223.654045 \nL 282.224844 223.654045 \n\" clip-path=\"url(#p233d4b0a7f)\" style=\"fill: none; stroke: #ffffff; stroke-linecap: round\"/>\n     </g>\n     <g id=\"text_5\">\n      <!-- −0.2 -->\n      <g style=\"fill: #262626\" transform=\"translate(22.81375 227.833185) scale(0.11 -0.11)\">\n       <defs>\n        <path id=\"DejaVuSans-2212\" d=\"M 678 2272 \nL 4684 2272 \nL 4684 1741 \nL 678 1741 \nL 678 2272 \nz\n\" transform=\"scale(0.015625)\"/>\n        <path id=\"DejaVuSans-32\" d=\"M 1228 531 \nL 3431 531 \nL 3431 0 \nL 469 0 \nL 469 531 \nQ 828 903 1448 1529 \nQ 2069 2156 2228 2338 \nQ 2531 2678 2651 2914 \nQ 2772 3150 2772 3378 \nQ 2772 3750 2511 3984 \nQ 2250 4219 1831 4219 \nQ 1534 4219 1204 4116 \nQ 875 4013 500 3803 \nL 500 4441 \nQ 881 4594 1212 4672 \nQ 1544 4750 1819 4750 \nQ 2544 4750 2975 4387 \nQ 3406 4025 3406 3419 \nQ 3406 3131 3298 2873 \nQ 3191 2616 2906 2266 \nQ 2828 2175 2409 1742 \nQ 1991 1309 1228 531 \nz\n\" transform=\"scale(0.015625)\"/>\n       </defs>\n       <use xlink:href=\"#DejaVuSans-2212\"/>\n       <use xlink:href=\"#DejaVuSans-30\" x=\"83.789062\"/>\n       <use xlink:href=\"#DejaVuSans-2e\" x=\"147.412109\"/>\n       <use xlink:href=\"#DejaVuSans-32\" x=\"179.199219\"/>\n      </g>\n     </g>\n    </g>\n    <g id=\"ytick_2\">\n     <g id=\"line2d_5\">\n      <path d=\"M 59.024844 197.075842 \nL 282.224844 197.075842 \n\" clip-path=\"url(#p233d4b0a7f)\" style=\"fill: none; stroke: #ffffff; stroke-linecap: round\"/>\n     </g>\n     <g id=\"text_6\">\n      <!-- 0.0 -->\n      <g style=\"fill: #262626\" transform=\"translate(32.031406 201.254983) scale(0.11 -0.11)\">\n       <use xlink:href=\"#DejaVuSans-30\"/>\n       <use xlink:href=\"#DejaVuSans-2e\" x=\"63.623047\"/>\n       <use xlink:href=\"#DejaVuSans-30\" x=\"95.410156\"/>\n      </g>\n     </g>\n    </g>\n    <g id=\"ytick_3\">\n     <g id=\"line2d_6\">\n      <path d=\"M 59.024844 170.49764 \nL 282.224844 170.49764 \n\" clip-path=\"url(#p233d4b0a7f)\" style=\"fill: none; stroke: #ffffff; stroke-linecap: round\"/>\n     </g>\n     <g id=\"text_7\">\n      <!-- 0.2 -->\n      <g style=\"fill: #262626\" transform=\"translate(32.031406 174.676781) scale(0.11 -0.11)\">\n       <use xlink:href=\"#DejaVuSans-30\"/>\n       <use xlink:href=\"#DejaVuSans-2e\" x=\"63.623047\"/>\n       <use xlink:href=\"#DejaVuSans-32\" x=\"95.410156\"/>\n      </g>\n     </g>\n    </g>\n    <g id=\"ytick_4\">\n     <g id=\"line2d_7\">\n      <path d=\"M 59.024844 143.919438 \nL 282.224844 143.919438 \n\" clip-path=\"url(#p233d4b0a7f)\" style=\"fill: none; stroke: #ffffff; stroke-linecap: round\"/>\n     </g>\n     <g id=\"text_8\">\n      <!-- 0.4 -->\n      <g style=\"fill: #262626\" transform=\"translate(32.031406 148.098578) scale(0.11 -0.11)\">\n       <defs>\n        <path id=\"DejaVuSans-34\" d=\"M 2419 4116 \nL 825 1625 \nL 2419 1625 \nL 2419 4116 \nz\nM 2253 4666 \nL 3047 4666 \nL 3047 1625 \nL 3713 1625 \nL 3713 1100 \nL 3047 1100 \nL 3047 0 \nL 2419 0 \nL 2419 1100 \nL 313 1100 \nL 313 1709 \nL 2253 4666 \nz\n\" transform=\"scale(0.015625)\"/>\n       </defs>\n       <use xlink:href=\"#DejaVuSans-30\"/>\n       <use xlink:href=\"#DejaVuSans-2e\" x=\"63.623047\"/>\n       <use xlink:href=\"#DejaVuSans-34\" x=\"95.410156\"/>\n      </g>\n     </g>\n    </g>\n    <g id=\"ytick_5\">\n     <g id=\"line2d_8\">\n      <path d=\"M 59.024844 117.341235 \nL 282.224844 117.341235 \n\" clip-path=\"url(#p233d4b0a7f)\" style=\"fill: none; stroke: #ffffff; stroke-linecap: round\"/>\n     </g>\n     <g id=\"text_9\">\n      <!-- 0.6 -->\n      <g style=\"fill: #262626\" transform=\"translate(32.031406 121.520376) scale(0.11 -0.11)\">\n       <defs>\n        <path id=\"DejaVuSans-36\" d=\"M 2113 2584 \nQ 1688 2584 1439 2293 \nQ 1191 2003 1191 1497 \nQ 1191 994 1439 701 \nQ 1688 409 2113 409 \nQ 2538 409 2786 701 \nQ 3034 994 3034 1497 \nQ 3034 2003 2786 2293 \nQ 2538 2584 2113 2584 \nz\nM 3366 4563 \nL 3366 3988 \nQ 3128 4100 2886 4159 \nQ 2644 4219 2406 4219 \nQ 1781 4219 1451 3797 \nQ 1122 3375 1075 2522 \nQ 1259 2794 1537 2939 \nQ 1816 3084 2150 3084 \nQ 2853 3084 3261 2657 \nQ 3669 2231 3669 1497 \nQ 3669 778 3244 343 \nQ 2819 -91 2113 -91 \nQ 1303 -91 875 529 \nQ 447 1150 447 2328 \nQ 447 3434 972 4092 \nQ 1497 4750 2381 4750 \nQ 2619 4750 2861 4703 \nQ 3103 4656 3366 4563 \nz\n\" transform=\"scale(0.015625)\"/>\n       </defs>\n       <use xlink:href=\"#DejaVuSans-30\"/>\n       <use xlink:href=\"#DejaVuSans-2e\" x=\"63.623047\"/>\n       <use xlink:href=\"#DejaVuSans-36\" x=\"95.410156\"/>\n      </g>\n     </g>\n    </g>\n    <g id=\"ytick_6\">\n     <g id=\"line2d_9\">\n      <path d=\"M 59.024844 90.763033 \nL 282.224844 90.763033 \n\" clip-path=\"url(#p233d4b0a7f)\" style=\"fill: none; stroke: #ffffff; stroke-linecap: round\"/>\n     </g>\n     <g id=\"text_10\">\n      <!-- 0.8 -->\n      <g style=\"fill: #262626\" transform=\"translate(32.031406 94.942174) scale(0.11 -0.11)\">\n       <defs>\n        <path id=\"DejaVuSans-38\" d=\"M 2034 2216 \nQ 1584 2216 1326 1975 \nQ 1069 1734 1069 1313 \nQ 1069 891 1326 650 \nQ 1584 409 2034 409 \nQ 2484 409 2743 651 \nQ 3003 894 3003 1313 \nQ 3003 1734 2745 1975 \nQ 2488 2216 2034 2216 \nz\nM 1403 2484 \nQ 997 2584 770 2862 \nQ 544 3141 544 3541 \nQ 544 4100 942 4425 \nQ 1341 4750 2034 4750 \nQ 2731 4750 3128 4425 \nQ 3525 4100 3525 3541 \nQ 3525 3141 3298 2862 \nQ 3072 2584 2669 2484 \nQ 3125 2378 3379 2068 \nQ 3634 1759 3634 1313 \nQ 3634 634 3220 271 \nQ 2806 -91 2034 -91 \nQ 1263 -91 848 271 \nQ 434 634 434 1313 \nQ 434 1759 690 2068 \nQ 947 2378 1403 2484 \nz\nM 1172 3481 \nQ 1172 3119 1398 2916 \nQ 1625 2713 2034 2713 \nQ 2441 2713 2670 2916 \nQ 2900 3119 2900 3481 \nQ 2900 3844 2670 4047 \nQ 2441 4250 2034 4250 \nQ 1625 4250 1398 4047 \nQ 1172 3844 1172 3481 \nz\n\" transform=\"scale(0.015625)\"/>\n       </defs>\n       <use xlink:href=\"#DejaVuSans-30\"/>\n       <use xlink:href=\"#DejaVuSans-2e\" x=\"63.623047\"/>\n       <use xlink:href=\"#DejaVuSans-38\" x=\"95.410156\"/>\n      </g>\n     </g>\n    </g>\n    <g id=\"ytick_7\">\n     <g id=\"line2d_10\">\n      <path d=\"M 59.024844 64.184831 \nL 282.224844 64.184831 \n\" clip-path=\"url(#p233d4b0a7f)\" style=\"fill: none; stroke: #ffffff; stroke-linecap: round\"/>\n     </g>\n     <g id=\"text_11\">\n      <!-- 1.0 -->\n      <g style=\"fill: #262626\" transform=\"translate(32.031406 68.363971) scale(0.11 -0.11)\">\n       <use xlink:href=\"#DejaVuSans-31\"/>\n       <use xlink:href=\"#DejaVuSans-2e\" x=\"63.623047\"/>\n       <use xlink:href=\"#DejaVuSans-30\" x=\"95.410156\"/>\n      </g>\n     </g>\n    </g>\n    <g id=\"ytick_8\">\n     <g id=\"line2d_11\">\n      <path d=\"M 59.024844 37.606628 \nL 282.224844 37.606628 \n\" clip-path=\"url(#p233d4b0a7f)\" style=\"fill: none; stroke: #ffffff; stroke-linecap: round\"/>\n     </g>\n     <g id=\"text_12\">\n      <!-- 1.2 -->\n      <g style=\"fill: #262626\" transform=\"translate(32.031406 41.785769) scale(0.11 -0.11)\">\n       <use xlink:href=\"#DejaVuSans-31\"/>\n       <use xlink:href=\"#DejaVuSans-2e\" x=\"63.623047\"/>\n       <use xlink:href=\"#DejaVuSans-32\" x=\"95.410156\"/>\n      </g>\n     </g>\n    </g>\n    <g id=\"text_13\">\n     <!-- $x_2$ -->\n     <g style=\"fill: #262626\" transform=\"translate(16.318125 139.618125) rotate(-90) scale(0.12 -0.12)\">\n      <use xlink:href=\"#DejaVuSans-Oblique-78\" transform=\"translate(0 0.3125)\"/>\n      <use xlink:href=\"#DejaVuSans-32\" transform=\"translate(59.179688 -16.09375) scale(0.7)\"/>\n     </g>\n    </g>\n   </g>\n   <g id=\"PathCollection_1\">\n    <defs>\n     <path id=\"m47cf98becd\" d=\"M 0 3 \nC 0.795609 3 1.55874 2.683901 2.12132 2.12132 \nC 2.683901 1.55874 3 0.795609 3 0 \nC 3 -0.795609 2.683901 -1.55874 2.12132 -2.12132 \nC 1.55874 -2.683901 0.795609 -3 0 -3 \nC -0.795609 -3 -1.55874 -2.683901 -2.12132 -2.12132 \nC -2.683901 -1.55874 -3 -0.795609 -3 0 \nC -3 0.795609 -2.683901 1.55874 -2.12132 2.12132 \nC -1.55874 2.683901 -0.795609 3 0 3 \nz\n\" style=\"stroke: #333333\"/>\n    </defs>\n    <g clip-path=\"url(#p233d4b0a7f)\">\n     <use xlink:href=\"#m47cf98becd\" x=\"201.851667\" y=\"71.464292\" style=\"fill: #4c72b0; stroke: #333333\"/>\n     <use xlink:href=\"#m47cf98becd\" x=\"109.053227\" y=\"214.959057\" style=\"fill: #4c72b0; stroke: #333333\"/>\n     <use xlink:href=\"#m47cf98becd\" x=\"267.16355\" y=\"53.488925\" style=\"fill: #4c72b0; stroke: #333333\"/>\n     <use xlink:href=\"#m47cf98becd\" x=\"258.316801\" y=\"65.565233\" style=\"fill: #4c72b0; stroke: #333333\"/>\n     <use xlink:href=\"#m47cf98becd\" x=\"226.53899\" y=\"66.343052\" style=\"fill: #4c72b0; stroke: #333333\"/>\n     <use xlink:href=\"#m47cf98becd\" x=\"107.990333\" y=\"205.052959\" style=\"fill: #4c72b0; stroke: #333333\"/>\n     <use xlink:href=\"#m47cf98becd\" x=\"91.037229\" y=\"165.724694\" style=\"fill: #4c72b0; stroke: #333333\"/>\n     <use xlink:href=\"#m47cf98becd\" x=\"82.289441\" y=\"233.998125\" style=\"fill: #4c72b0; stroke: #333333\"/>\n     <use xlink:href=\"#m47cf98becd\" x=\"96.231336\" y=\"168.787063\" style=\"fill: #4c72b0; stroke: #333333\"/>\n     <use xlink:href=\"#m47cf98becd\" x=\"247.728769\" y=\"58.469775\" style=\"fill: #4c72b0; stroke: #333333\"/>\n     <use xlink:href=\"#m47cf98becd\" x=\"237.839605\" y=\"80.202993\" style=\"fill: #4c72b0; stroke: #333333\"/>\n     <use xlink:href=\"#m47cf98becd\" x=\"246.842886\" y=\"65.9636\" style=\"fill: #4c72b0; stroke: #333333\"/>\n     <use xlink:href=\"#m47cf98becd\" x=\"239.91475\" y=\"59.980707\" style=\"fill: #4c72b0; stroke: #333333\"/>\n     <use xlink:href=\"#m47cf98becd\" x=\"231.986477\" y=\"66.842308\" style=\"fill: #4c72b0; stroke: #333333\"/>\n     <use xlink:href=\"#m47cf98becd\" x=\"101.316991\" y=\"201.655597\" style=\"fill: #4c72b0; stroke: #333333\"/>\n     <use xlink:href=\"#m47cf98becd\" x=\"90.742058\" y=\"179.376276\" style=\"fill: #4c72b0; stroke: #333333\"/>\n     <use xlink:href=\"#m47cf98becd\" x=\"90.796456\" y=\"206.640063\" style=\"fill: #4c72b0; stroke: #333333\"/>\n     <use xlink:href=\"#m47cf98becd\" x=\"80.531327\" y=\"210.343217\" style=\"fill: #4c72b0; stroke: #333333\"/>\n     <use xlink:href=\"#m47cf98becd\" x=\"257.539226\" y=\"56.491335\" style=\"fill: #4c72b0; stroke: #333333\"/>\n     <use xlink:href=\"#m47cf98becd\" x=\"107.362783\" y=\"197.253138\" style=\"fill: #4c72b0; stroke: #333333\"/>\n     <use xlink:href=\"#m47cf98becd\" x=\"227.282758\" y=\"65.127452\" style=\"fill: #4c72b0; stroke: #333333\"/>\n     <use xlink:href=\"#m47cf98becd\" x=\"199.981449\" y=\"44.510006\" style=\"fill: #4c72b0; stroke: #333333\"/>\n     <use xlink:href=\"#m47cf98becd\" x=\"248.618418\" y=\"32.398125\" style=\"fill: #4c72b0; stroke: #333333\"/>\n     <use xlink:href=\"#m47cf98becd\" x=\"92.764873\" y=\"201.891414\" style=\"fill: #4c72b0; stroke: #333333\"/>\n     <use xlink:href=\"#m47cf98becd\" x=\"246.646983\" y=\"69.828218\" style=\"fill: #4c72b0; stroke: #333333\"/>\n     <use xlink:href=\"#m47cf98becd\" x=\"85.643823\" y=\"191.561657\" style=\"fill: #4c72b0; stroke: #333333\"/>\n     <use xlink:href=\"#m47cf98becd\" x=\"212.5863\" y=\"57.950305\" style=\"fill: #4c72b0; stroke: #333333\"/>\n     <use xlink:href=\"#m47cf98becd\" x=\"210.487975\" y=\"77.061936\" style=\"fill: #4c72b0; stroke: #333333\"/>\n     <use xlink:href=\"#m47cf98becd\" x=\"229.157089\" y=\"57.358755\" style=\"fill: #4c72b0; stroke: #333333\"/>\n     <use xlink:href=\"#m47cf98becd\" x=\"254.527955\" y=\"62.722438\" style=\"fill: #4c72b0; stroke: #333333\"/>\n     <use xlink:href=\"#m47cf98becd\" x=\"238.973602\" y=\"51.881263\" style=\"fill: #4c72b0; stroke: #333333\"/>\n     <use xlink:href=\"#m47cf98becd\" x=\"215.093615\" y=\"62.787168\" style=\"fill: #4c72b0; stroke: #333333\"/>\n     <use xlink:href=\"#m47cf98becd\" x=\"237.661495\" y=\"67.47515\" style=\"fill: #4c72b0; stroke: #333333\"/>\n     <use xlink:href=\"#m47cf98becd\" x=\"256.784161\" y=\"54.458636\" style=\"fill: #4c72b0; stroke: #333333\"/>\n     <use xlink:href=\"#m47cf98becd\" x=\"124.116443\" y=\"186.380164\" style=\"fill: #4c72b0; stroke: #333333\"/>\n     <use xlink:href=\"#m47cf98becd\" x=\"91.132217\" y=\"205.543362\" style=\"fill: #4c72b0; stroke: #333333\"/>\n     <use xlink:href=\"#m47cf98becd\" x=\"94.039998\" y=\"174.929051\" style=\"fill: #4c72b0; stroke: #333333\"/>\n     <use xlink:href=\"#m47cf98becd\" x=\"250.785416\" y=\"61.837941\" style=\"fill: #4c72b0; stroke: #333333\"/>\n     <use xlink:href=\"#m47cf98becd\" x=\"241.643548\" y=\"80.672633\" style=\"fill: #4c72b0; stroke: #333333\"/>\n     <use xlink:href=\"#m47cf98becd\" x=\"258.291544\" y=\"39.268225\" style=\"fill: #4c72b0; stroke: #333333\"/>\n     <use xlink:href=\"#m47cf98becd\" x=\"90.164077\" y=\"195.45614\" style=\"fill: #4c72b0; stroke: #333333\"/>\n     <use xlink:href=\"#m47cf98becd\" x=\"221.62143\" y=\"59.082173\" style=\"fill: #4c72b0; stroke: #333333\"/>\n     <use xlink:href=\"#m47cf98becd\" x=\"116.339443\" y=\"221.811613\" style=\"fill: #4c72b0; stroke: #333333\"/>\n     <use xlink:href=\"#m47cf98becd\" x=\"235.228647\" y=\"48.960154\" style=\"fill: #4c72b0; stroke: #333333\"/>\n     <use xlink:href=\"#m47cf98becd\" x=\"231.781032\" y=\"54.060911\" style=\"fill: #4c72b0; stroke: #333333\"/>\n     <use xlink:href=\"#m47cf98becd\" x=\"245.502859\" y=\"47.351621\" style=\"fill: #4c72b0; stroke: #333333\"/>\n     <use xlink:href=\"#m47cf98becd\" x=\"272.079389\" y=\"52.68427\" style=\"fill: #4c72b0; stroke: #333333\"/>\n     <use xlink:href=\"#m47cf98becd\" x=\"81.579842\" y=\"179.700477\" style=\"fill: #4c72b0; stroke: #333333\"/>\n     <use xlink:href=\"#m47cf98becd\" x=\"84.845206\" y=\"188.862499\" style=\"fill: #4c72b0; stroke: #333333\"/>\n     <use xlink:href=\"#m47cf98becd\" x=\"100.11835\" y=\"173.108389\" style=\"fill: #4c72b0; stroke: #333333\"/>\n     <use xlink:href=\"#m47cf98becd\" x=\"231.846678\" y=\"66.475007\" style=\"fill: #4c72b0; stroke: #333333\"/>\n     <use xlink:href=\"#m47cf98becd\" x=\"116.339583\" y=\"206.631545\" style=\"fill: #4c72b0; stroke: #333333\"/>\n     <use xlink:href=\"#m47cf98becd\" x=\"107.215379\" y=\"187.702994\" style=\"fill: #4c72b0; stroke: #333333\"/>\n     <use xlink:href=\"#m47cf98becd\" x=\"228.545165\" y=\"74.369956\" style=\"fill: #4c72b0; stroke: #333333\"/>\n     <use xlink:href=\"#m47cf98becd\" x=\"238.912536\" y=\"51.611334\" style=\"fill: #4c72b0; stroke: #333333\"/>\n     <use xlink:href=\"#m47cf98becd\" x=\"235.479459\" y=\"52.982461\" style=\"fill: #4c72b0; stroke: #333333\"/>\n     <use xlink:href=\"#m47cf98becd\" x=\"237.615695\" y=\"68.023412\" style=\"fill: #4c72b0; stroke: #333333\"/>\n     <use xlink:href=\"#m47cf98becd\" x=\"122.830486\" y=\"195.231579\" style=\"fill: #4c72b0; stroke: #333333\"/>\n     <use xlink:href=\"#m47cf98becd\" x=\"81.09749\" y=\"199.892988\" style=\"fill: #4c72b0; stroke: #333333\"/>\n     <use xlink:href=\"#m47cf98becd\" x=\"95.159318\" y=\"202.242583\" style=\"fill: #4c72b0; stroke: #333333\"/>\n     <use xlink:href=\"#m47cf98becd\" x=\"247.252267\" y=\"57.364426\" style=\"fill: #4c72b0; stroke: #333333\"/>\n     <use xlink:href=\"#m47cf98becd\" x=\"222.853981\" y=\"67.087738\" style=\"fill: #4c72b0; stroke: #333333\"/>\n     <use xlink:href=\"#m47cf98becd\" x=\"244.851317\" y=\"69.049853\" style=\"fill: #4c72b0; stroke: #333333\"/>\n     <use xlink:href=\"#m47cf98becd\" x=\"91.655242\" y=\"200.36615\" style=\"fill: #4c72b0; stroke: #333333\"/>\n     <use xlink:href=\"#m47cf98becd\" x=\"84.943725\" y=\"209.599622\" style=\"fill: #4c72b0; stroke: #333333\"/>\n     <use xlink:href=\"#m47cf98becd\" x=\"246.669696\" y=\"70.25594\" style=\"fill: #4c72b0; stroke: #333333\"/>\n     <use xlink:href=\"#m47cf98becd\" x=\"96.877564\" y=\"197.526471\" style=\"fill: #4c72b0; stroke: #333333\"/>\n     <use xlink:href=\"#m47cf98becd\" x=\"87.762618\" y=\"198.542291\" style=\"fill: #4c72b0; stroke: #333333\"/>\n     <use xlink:href=\"#m47cf98becd\" x=\"231.088509\" y=\"77.296617\" style=\"fill: #4c72b0; stroke: #333333\"/>\n     <use xlink:href=\"#m47cf98becd\" x=\"99.946235\" y=\"205.756885\" style=\"fill: #4c72b0; stroke: #333333\"/>\n     <use xlink:href=\"#m47cf98becd\" x=\"215.278205\" y=\"64.409413\" style=\"fill: #4c72b0; stroke: #333333\"/>\n     <use xlink:href=\"#m47cf98becd\" x=\"100.580512\" y=\"203.322005\" style=\"fill: #4c72b0; stroke: #333333\"/>\n     <use xlink:href=\"#m47cf98becd\" x=\"218.847697\" y=\"60.453918\" style=\"fill: #4c72b0; stroke: #333333\"/>\n     <use xlink:href=\"#m47cf98becd\" x=\"236.437391\" y=\"59.177303\" style=\"fill: #4c72b0; stroke: #333333\"/>\n     <use xlink:href=\"#m47cf98becd\" x=\"251.707701\" y=\"84.204374\" style=\"fill: #4c72b0; stroke: #333333\"/>\n     <use xlink:href=\"#m47cf98becd\" x=\"242.004042\" y=\"56.801851\" style=\"fill: #4c72b0; stroke: #333333\"/>\n     <use xlink:href=\"#m47cf98becd\" x=\"240.534622\" y=\"70.009552\" style=\"fill: #4c72b0; stroke: #333333\"/>\n     <use xlink:href=\"#m47cf98becd\" x=\"92.955356\" y=\"184.859418\" style=\"fill: #4c72b0; stroke: #333333\"/>\n     <use xlink:href=\"#m47cf98becd\" x=\"79.723543\" y=\"162.175704\" style=\"fill: #4c72b0; stroke: #333333\"/>\n     <use xlink:href=\"#m47cf98becd\" x=\"111.090357\" y=\"200.956874\" style=\"fill: #4c72b0; stroke: #333333\"/>\n     <use xlink:href=\"#m47cf98becd\" x=\"72.765288\" y=\"206.901428\" style=\"fill: #4c72b0; stroke: #333333\"/>\n     <use xlink:href=\"#m47cf98becd\" x=\"223.40802\" y=\"61.113303\" style=\"fill: #4c72b0; stroke: #333333\"/>\n     <use xlink:href=\"#m47cf98becd\" x=\"236.042548\" y=\"78.251191\" style=\"fill: #4c72b0; stroke: #333333\"/>\n     <use xlink:href=\"#m47cf98becd\" x=\"113.116834\" y=\"223.480753\" style=\"fill: #4c72b0; stroke: #333333\"/>\n     <use xlink:href=\"#m47cf98becd\" x=\"222.799056\" y=\"44.139101\" style=\"fill: #4c72b0; stroke: #333333\"/>\n     <use xlink:href=\"#m47cf98becd\" x=\"95.814146\" y=\"185.135282\" style=\"fill: #4c72b0; stroke: #333333\"/>\n     <use xlink:href=\"#m47cf98becd\" x=\"116.812771\" y=\"182.726037\" style=\"fill: #4c72b0; stroke: #333333\"/>\n     <use xlink:href=\"#m47cf98becd\" x=\"240.046144\" y=\"89.678966\" style=\"fill: #4c72b0; stroke: #333333\"/>\n     <use xlink:href=\"#m47cf98becd\" x=\"208.973722\" y=\"75.34053\" style=\"fill: #4c72b0; stroke: #333333\"/>\n     <use xlink:href=\"#m47cf98becd\" x=\"86.311659\" y=\"196.612067\" style=\"fill: #4c72b0; stroke: #333333\"/>\n     <use xlink:href=\"#m47cf98becd\" x=\"236.008775\" y=\"77.153407\" style=\"fill: #4c72b0; stroke: #333333\"/>\n     <use xlink:href=\"#m47cf98becd\" x=\"248.102918\" y=\"56.722277\" style=\"fill: #4c72b0; stroke: #333333\"/>\n     <use xlink:href=\"#m47cf98becd\" x=\"104.300327\" y=\"205.777603\" style=\"fill: #4c72b0; stroke: #333333\"/>\n     <use xlink:href=\"#m47cf98becd\" x=\"86.956509\" y=\"191.89643\" style=\"fill: #4c72b0; stroke: #333333\"/>\n     <use xlink:href=\"#m47cf98becd\" x=\"85.289962\" y=\"193.983611\" style=\"fill: #4c72b0; stroke: #333333\"/>\n     <use xlink:href=\"#m47cf98becd\" x=\"85.310258\" y=\"206.898292\" style=\"fill: #4c72b0; stroke: #333333\"/>\n     <use xlink:href=\"#m47cf98becd\" x=\"86.420319\" y=\"199.034434\" style=\"fill: #4c72b0; stroke: #333333\"/>\n     <use xlink:href=\"#m47cf98becd\" x=\"105.504201\" y=\"177.478243\" style=\"fill: #4c72b0; stroke: #333333\"/>\n    </g>\n   </g>\n   <g id=\"PathCollection_2\">\n    <defs>\n     <path id=\"m5db6140b3c\" d=\"M 0 3 \nC 0.795609 3 1.55874 2.683901 2.12132 2.12132 \nC 2.683901 1.55874 3 0.795609 3 0 \nC 3 -0.795609 2.683901 -1.55874 2.12132 -2.12132 \nC 1.55874 -2.683901 0.795609 -3 0 -3 \nC -0.795609 -3 -1.55874 -2.683901 -2.12132 -2.12132 \nC -2.683901 -1.55874 -3 -0.795609 -3 0 \nC -3 0.795609 -2.683901 1.55874 -2.12132 2.12132 \nC -1.55874 2.683901 -0.795609 3 0 3 \nz\n\" style=\"stroke: #333333\"/>\n    </defs>\n    <g clip-path=\"url(#p233d4b0a7f)\">\n     <use xlink:href=\"#m5db6140b3c\" x=\"97.676745\" y=\"77.895082\" style=\"fill: #dd8452; stroke: #333333\"/>\n     <use xlink:href=\"#m5db6140b3c\" x=\"96.79403\" y=\"50.781586\" style=\"fill: #dd8452; stroke: #333333\"/>\n     <use xlink:href=\"#m5db6140b3c\" x=\"111.721545\" y=\"57.602418\" style=\"fill: #dd8452; stroke: #333333\"/>\n     <use xlink:href=\"#m5db6140b3c\" x=\"87.544279\" y=\"56.919429\" style=\"fill: #dd8452; stroke: #333333\"/>\n     <use xlink:href=\"#m5db6140b3c\" x=\"252.676464\" y=\"225.749531\" style=\"fill: #dd8452; stroke: #333333\"/>\n     <use xlink:href=\"#m5db6140b3c\" x=\"242.079221\" y=\"187.802464\" style=\"fill: #dd8452; stroke: #333333\"/>\n     <use xlink:href=\"#m5db6140b3c\" x=\"83.599678\" y=\"90.358526\" style=\"fill: #dd8452; stroke: #333333\"/>\n     <use xlink:href=\"#m5db6140b3c\" x=\"87.709532\" y=\"61.32815\" style=\"fill: #dd8452; stroke: #333333\"/>\n     <use xlink:href=\"#m5db6140b3c\" x=\"97.148469\" y=\"76.139402\" style=\"fill: #dd8452; stroke: #333333\"/>\n     <use xlink:href=\"#m5db6140b3c\" x=\"72.443991\" y=\"65.486967\" style=\"fill: #dd8452; stroke: #333333\"/>\n     <use xlink:href=\"#m5db6140b3c\" x=\"230.263785\" y=\"198.427713\" style=\"fill: #dd8452; stroke: #333333\"/>\n     <use xlink:href=\"#m5db6140b3c\" x=\"84.290669\" y=\"63.40584\" style=\"fill: #dd8452; stroke: #333333\"/>\n     <use xlink:href=\"#m5db6140b3c\" x=\"241.824558\" y=\"202.198098\" style=\"fill: #dd8452; stroke: #333333\"/>\n     <use xlink:href=\"#m5db6140b3c\" x=\"235.167182\" y=\"190.444719\" style=\"fill: #dd8452; stroke: #333333\"/>\n     <use xlink:href=\"#m5db6140b3c\" x=\"271.959496\" y=\"213.025846\" style=\"fill: #dd8452; stroke: #333333\"/>\n     <use xlink:href=\"#m5db6140b3c\" x=\"89.92822\" y=\"81.12868\" style=\"fill: #dd8452; stroke: #333333\"/>\n     <use xlink:href=\"#m5db6140b3c\" x=\"101.217732\" y=\"88.207275\" style=\"fill: #dd8452; stroke: #333333\"/>\n     <use xlink:href=\"#m5db6140b3c\" x=\"101.300339\" y=\"71.04366\" style=\"fill: #dd8452; stroke: #333333\"/>\n     <use xlink:href=\"#m5db6140b3c\" x=\"209.436654\" y=\"184.166453\" style=\"fill: #dd8452; stroke: #333333\"/>\n     <use xlink:href=\"#m5db6140b3c\" x=\"226.451191\" y=\"167.123442\" style=\"fill: #dd8452; stroke: #333333\"/>\n     <use xlink:href=\"#m5db6140b3c\" x=\"218.62724\" y=\"194.399029\" style=\"fill: #dd8452; stroke: #333333\"/>\n     <use xlink:href=\"#m5db6140b3c\" x=\"231.35809\" y=\"213.68243\" style=\"fill: #dd8452; stroke: #333333\"/>\n     <use xlink:href=\"#m5db6140b3c\" x=\"240.202032\" y=\"196.819941\" style=\"fill: #dd8452; stroke: #333333\"/>\n     <use xlink:href=\"#m5db6140b3c\" x=\"239.221497\" y=\"178.56126\" style=\"fill: #dd8452; stroke: #333333\"/>\n     <use xlink:href=\"#m5db6140b3c\" x=\"147.94586\" y=\"70.628176\" style=\"fill: #dd8452; stroke: #333333\"/>\n     <use xlink:href=\"#m5db6140b3c\" x=\"213.633745\" y=\"229.634515\" style=\"fill: #dd8452; stroke: #333333\"/>\n     <use xlink:href=\"#m5db6140b3c\" x=\"245.759574\" y=\"195.752583\" style=\"fill: #dd8452; stroke: #333333\"/>\n     <use xlink:href=\"#m5db6140b3c\" x=\"87.422833\" y=\"63.398743\" style=\"fill: #dd8452; stroke: #333333\"/>\n     <use xlink:href=\"#m5db6140b3c\" x=\"221.915124\" y=\"194.497878\" style=\"fill: #dd8452; stroke: #333333\"/>\n     <use xlink:href=\"#m5db6140b3c\" x=\"259.538734\" y=\"227.162564\" style=\"fill: #dd8452; stroke: #333333\"/>\n     <use xlink:href=\"#m5db6140b3c\" x=\"262.455777\" y=\"198.234914\" style=\"fill: #dd8452; stroke: #333333\"/>\n     <use xlink:href=\"#m5db6140b3c\" x=\"79.352301\" y=\"50.385302\" style=\"fill: #dd8452; stroke: #333333\"/>\n     <use xlink:href=\"#m5db6140b3c\" x=\"77.813264\" y=\"45.508581\" style=\"fill: #dd8452; stroke: #333333\"/>\n     <use xlink:href=\"#m5db6140b3c\" x=\"94.638364\" y=\"46.973983\" style=\"fill: #dd8452; stroke: #333333\"/>\n     <use xlink:href=\"#m5db6140b3c\" x=\"257.303884\" y=\"209.840992\" style=\"fill: #dd8452; stroke: #333333\"/>\n     <use xlink:href=\"#m5db6140b3c\" x=\"226.571067\" y=\"209.130929\" style=\"fill: #dd8452; stroke: #333333\"/>\n     <use xlink:href=\"#m5db6140b3c\" x=\"230.409241\" y=\"175.539706\" style=\"fill: #dd8452; stroke: #333333\"/>\n     <use xlink:href=\"#m5db6140b3c\" x=\"241.240427\" y=\"178.735244\" style=\"fill: #dd8452; stroke: #333333\"/>\n     <use xlink:href=\"#m5db6140b3c\" x=\"222.543596\" y=\"215.243155\" style=\"fill: #dd8452; stroke: #333333\"/>\n     <use xlink:href=\"#m5db6140b3c\" x=\"230.887627\" y=\"181.038097\" style=\"fill: #dd8452; stroke: #333333\"/>\n     <use xlink:href=\"#m5db6140b3c\" x=\"75.854087\" y=\"81.137139\" style=\"fill: #dd8452; stroke: #333333\"/>\n     <use xlink:href=\"#m5db6140b3c\" x=\"258.049264\" y=\"189.554542\" style=\"fill: #dd8452; stroke: #333333\"/>\n     <use xlink:href=\"#m5db6140b3c\" x=\"243.893597\" y=\"191.58383\" style=\"fill: #dd8452; stroke: #333333\"/>\n     <use xlink:href=\"#m5db6140b3c\" x=\"231.759023\" y=\"180.221666\" style=\"fill: #dd8452; stroke: #333333\"/>\n     <use xlink:href=\"#m5db6140b3c\" x=\"113.01681\" y=\"60.149913\" style=\"fill: #dd8452; stroke: #333333\"/>\n     <use xlink:href=\"#m5db6140b3c\" x=\"81.968572\" y=\"72.685928\" style=\"fill: #dd8452; stroke: #333333\"/>\n     <use xlink:href=\"#m5db6140b3c\" x=\"108.07878\" y=\"68.316177\" style=\"fill: #dd8452; stroke: #333333\"/>\n     <use xlink:href=\"#m5db6140b3c\" x=\"222.239724\" y=\"179.550689\" style=\"fill: #dd8452; stroke: #333333\"/>\n     <use xlink:href=\"#m5db6140b3c\" x=\"94.132799\" y=\"56.846303\" style=\"fill: #dd8452; stroke: #333333\"/>\n     <use xlink:href=\"#m5db6140b3c\" x=\"223.946878\" y=\"187.471363\" style=\"fill: #dd8452; stroke: #333333\"/>\n     <use xlink:href=\"#m5db6140b3c\" x=\"234.715081\" y=\"194.154188\" style=\"fill: #dd8452; stroke: #333333\"/>\n     <use xlink:href=\"#m5db6140b3c\" x=\"88.793119\" y=\"66.318157\" style=\"fill: #dd8452; stroke: #333333\"/>\n     <use xlink:href=\"#m5db6140b3c\" x=\"93.91221\" y=\"45.009072\" style=\"fill: #dd8452; stroke: #333333\"/>\n     <use xlink:href=\"#m5db6140b3c\" x=\"218.098619\" y=\"186.726977\" style=\"fill: #dd8452; stroke: #333333\"/>\n     <use xlink:href=\"#m5db6140b3c\" x=\"85.245503\" y=\"73.784615\" style=\"fill: #dd8452; stroke: #333333\"/>\n     <use xlink:href=\"#m5db6140b3c\" x=\"246.156181\" y=\"198.166009\" style=\"fill: #dd8452; stroke: #333333\"/>\n     <use xlink:href=\"#m5db6140b3c\" x=\"223.333571\" y=\"198.709119\" style=\"fill: #dd8452; stroke: #333333\"/>\n     <use xlink:href=\"#m5db6140b3c\" x=\"87.882063\" y=\"76.117461\" style=\"fill: #dd8452; stroke: #333333\"/>\n     <use xlink:href=\"#m5db6140b3c\" x=\"236.438392\" y=\"202.306195\" style=\"fill: #dd8452; stroke: #333333\"/>\n     <use xlink:href=\"#m5db6140b3c\" x=\"258.015304\" y=\"181.979494\" style=\"fill: #dd8452; stroke: #333333\"/>\n     <use xlink:href=\"#m5db6140b3c\" x=\"98.545449\" y=\"55.666038\" style=\"fill: #dd8452; stroke: #333333\"/>\n     <use xlink:href=\"#m5db6140b3c\" x=\"72.742104\" y=\"69.55093\" style=\"fill: #dd8452; stroke: #333333\"/>\n     <use xlink:href=\"#m5db6140b3c\" x=\"231.535292\" y=\"206.572144\" style=\"fill: #dd8452; stroke: #333333\"/>\n     <use xlink:href=\"#m5db6140b3c\" x=\"228.69794\" y=\"177.423891\" style=\"fill: #dd8452; stroke: #333333\"/>\n     <use xlink:href=\"#m5db6140b3c\" x=\"212.958074\" y=\"190.926758\" style=\"fill: #dd8452; stroke: #333333\"/>\n     <use xlink:href=\"#m5db6140b3c\" x=\"92.716005\" y=\"64.580203\" style=\"fill: #dd8452; stroke: #333333\"/>\n     <use xlink:href=\"#m5db6140b3c\" x=\"80.504055\" y=\"63.573668\" style=\"fill: #dd8452; stroke: #333333\"/>\n     <use xlink:href=\"#m5db6140b3c\" x=\"84.942321\" y=\"51.828985\" style=\"fill: #dd8452; stroke: #333333\"/>\n     <use xlink:href=\"#m5db6140b3c\" x=\"232.984009\" y=\"216.165909\" style=\"fill: #dd8452; stroke: #333333\"/>\n     <use xlink:href=\"#m5db6140b3c\" x=\"115.024087\" y=\"36.205712\" style=\"fill: #dd8452; stroke: #333333\"/>\n     <use xlink:href=\"#m5db6140b3c\" x=\"89.453238\" y=\"53.621648\" style=\"fill: #dd8452; stroke: #333333\"/>\n     <use xlink:href=\"#m5db6140b3c\" x=\"235.025941\" y=\"190.845238\" style=\"fill: #dd8452; stroke: #333333\"/>\n     <use xlink:href=\"#m5db6140b3c\" x=\"262.869466\" y=\"198.809975\" style=\"fill: #dd8452; stroke: #333333\"/>\n     <use xlink:href=\"#m5db6140b3c\" x=\"230.942137\" y=\"194.453127\" style=\"fill: #dd8452; stroke: #333333\"/>\n     <use xlink:href=\"#m5db6140b3c\" x=\"245.502536\" y=\"179.076124\" style=\"fill: #dd8452; stroke: #333333\"/>\n     <use xlink:href=\"#m5db6140b3c\" x=\"229.795849\" y=\"180.874266\" style=\"fill: #dd8452; stroke: #333333\"/>\n     <use xlink:href=\"#m5db6140b3c\" x=\"78.121792\" y=\"57.502266\" style=\"fill: #dd8452; stroke: #333333\"/>\n     <use xlink:href=\"#m5db6140b3c\" x=\"228.490332\" y=\"176.56822\" style=\"fill: #dd8452; stroke: #333333\"/>\n     <use xlink:href=\"#m5db6140b3c\" x=\"259.608909\" y=\"203.266565\" style=\"fill: #dd8452; stroke: #333333\"/>\n     <use xlink:href=\"#m5db6140b3c\" x=\"252.091824\" y=\"210.418234\" style=\"fill: #dd8452; stroke: #333333\"/>\n     <use xlink:href=\"#m5db6140b3c\" x=\"253.650706\" y=\"195.736624\" style=\"fill: #dd8452; stroke: #333333\"/>\n     <use xlink:href=\"#m5db6140b3c\" x=\"86.55489\" y=\"70.386144\" style=\"fill: #dd8452; stroke: #333333\"/>\n     <use xlink:href=\"#m5db6140b3c\" x=\"265.523671\" y=\"200.711974\" style=\"fill: #dd8452; stroke: #333333\"/>\n     <use xlink:href=\"#m5db6140b3c\" x=\"205.193849\" y=\"186.235871\" style=\"fill: #dd8452; stroke: #333333\"/>\n     <use xlink:href=\"#m5db6140b3c\" x=\"224.505913\" y=\"193.761848\" style=\"fill: #dd8452; stroke: #333333\"/>\n     <use xlink:href=\"#m5db6140b3c\" x=\"226.172611\" y=\"201.939187\" style=\"fill: #dd8452; stroke: #333333\"/>\n     <use xlink:href=\"#m5db6140b3c\" x=\"226.31073\" y=\"217.563244\" style=\"fill: #dd8452; stroke: #333333\"/>\n     <use xlink:href=\"#m5db6140b3c\" x=\"244.772355\" y=\"222.471711\" style=\"fill: #dd8452; stroke: #333333\"/>\n     <use xlink:href=\"#m5db6140b3c\" x=\"239.138803\" y=\"181.44393\" style=\"fill: #dd8452; stroke: #333333\"/>\n     <use xlink:href=\"#m5db6140b3c\" x=\"247.542806\" y=\"178.304781\" style=\"fill: #dd8452; stroke: #333333\"/>\n     <use xlink:href=\"#m5db6140b3c\" x=\"110.599431\" y=\"89.016532\" style=\"fill: #dd8452; stroke: #333333\"/>\n     <use xlink:href=\"#m5db6140b3c\" x=\"106.807197\" y=\"61.808887\" style=\"fill: #dd8452; stroke: #333333\"/>\n     <use xlink:href=\"#m5db6140b3c\" x=\"232.698525\" y=\"196.349264\" style=\"fill: #dd8452; stroke: #333333\"/>\n     <use xlink:href=\"#m5db6140b3c\" x=\"246.171685\" y=\"211.017952\" style=\"fill: #dd8452; stroke: #333333\"/>\n     <use xlink:href=\"#m5db6140b3c\" x=\"213.186495\" y=\"202.926571\" style=\"fill: #dd8452; stroke: #333333\"/>\n     <use xlink:href=\"#m5db6140b3c\" x=\"239.232947\" y=\"191.069349\" style=\"fill: #dd8452; stroke: #333333\"/>\n     <use xlink:href=\"#m5db6140b3c\" x=\"250.28408\" y=\"210.294383\" style=\"fill: #dd8452; stroke: #333333\"/>\n     <use xlink:href=\"#m5db6140b3c\" x=\"234.9663\" y=\"189.471217\" style=\"fill: #dd8452; stroke: #333333\"/>\n     <use xlink:href=\"#m5db6140b3c\" x=\"100.965822\" y=\"72.013062\" style=\"fill: #dd8452; stroke: #333333\"/>\n     <use xlink:href=\"#m5db6140b3c\" x=\"100.873535\" y=\"62.060535\" style=\"fill: #dd8452; stroke: #333333\"/>\n     <use xlink:href=\"#m5db6140b3c\" x=\"69.170298\" y=\"65.100759\" style=\"fill: #dd8452; stroke: #333333\"/>\n     <use xlink:href=\"#m5db6140b3c\" x=\"249.050375\" y=\"191.727757\" style=\"fill: #dd8452; stroke: #333333\"/>\n    </g>\n   </g>\n   <g id=\"patch_3\">\n    <path d=\"M 59.024844 244.078125 \nL 59.024844 22.318125 \n\" style=\"fill: none; stroke: #ffffff; stroke-width: 1.25; stroke-linejoin: miter; stroke-linecap: square\"/>\n   </g>\n   <g id=\"patch_4\">\n    <path d=\"M 282.224844 244.078125 \nL 282.224844 22.318125 \n\" style=\"fill: none; stroke: #ffffff; stroke-width: 1.25; stroke-linejoin: miter; stroke-linecap: square\"/>\n   </g>\n   <g id=\"patch_5\">\n    <path d=\"M 59.024844 244.078125 \nL 282.224844 244.078125 \n\" style=\"fill: none; stroke: #ffffff; stroke-width: 1.25; stroke-linejoin: miter; stroke-linecap: square\"/>\n   </g>\n   <g id=\"patch_6\">\n    <path d=\"M 59.024844 22.318125 \nL 282.224844 22.318125 \n\" style=\"fill: none; stroke: #ffffff; stroke-width: 1.25; stroke-linejoin: miter; stroke-linecap: square\"/>\n   </g>\n   <g id=\"text_14\">\n    <!-- Dataset samples -->\n    <g style=\"fill: #262626\" transform=\"translate(120.282031 16.318125) scale(0.12 -0.12)\">\n     <defs>\n      <path id=\"DejaVuSans-44\" d=\"M 1259 4147 \nL 1259 519 \nL 2022 519 \nQ 2988 519 3436 956 \nQ 3884 1394 3884 2338 \nQ 3884 3275 3436 3711 \nQ 2988 4147 2022 4147 \nL 1259 4147 \nz\nM 628 4666 \nL 1925 4666 \nQ 3281 4666 3915 4102 \nQ 4550 3538 4550 2338 \nQ 4550 1131 3912 565 \nQ 3275 0 1925 0 \nL 628 0 \nL 628 4666 \nz\n\" transform=\"scale(0.015625)\"/>\n      <path id=\"DejaVuSans-61\" d=\"M 2194 1759 \nQ 1497 1759 1228 1600 \nQ 959 1441 959 1056 \nQ 959 750 1161 570 \nQ 1363 391 1709 391 \nQ 2188 391 2477 730 \nQ 2766 1069 2766 1631 \nL 2766 1759 \nL 2194 1759 \nz\nM 3341 1997 \nL 3341 0 \nL 2766 0 \nL 2766 531 \nQ 2569 213 2275 61 \nQ 1981 -91 1556 -91 \nQ 1019 -91 701 211 \nQ 384 513 384 1019 \nQ 384 1609 779 1909 \nQ 1175 2209 1959 2209 \nL 2766 2209 \nL 2766 2266 \nQ 2766 2663 2505 2880 \nQ 2244 3097 1772 3097 \nQ 1472 3097 1187 3025 \nQ 903 2953 641 2809 \nL 641 3341 \nQ 956 3463 1253 3523 \nQ 1550 3584 1831 3584 \nQ 2591 3584 2966 3190 \nQ 3341 2797 3341 1997 \nz\n\" transform=\"scale(0.015625)\"/>\n      <path id=\"DejaVuSans-74\" d=\"M 1172 4494 \nL 1172 3500 \nL 2356 3500 \nL 2356 3053 \nL 1172 3053 \nL 1172 1153 \nQ 1172 725 1289 603 \nQ 1406 481 1766 481 \nL 2356 481 \nL 2356 0 \nL 1766 0 \nQ 1100 0 847 248 \nQ 594 497 594 1153 \nL 594 3053 \nL 172 3053 \nL 172 3500 \nL 594 3500 \nL 594 4494 \nL 1172 4494 \nz\n\" transform=\"scale(0.015625)\"/>\n      <path id=\"DejaVuSans-73\" d=\"M 2834 3397 \nL 2834 2853 \nQ 2591 2978 2328 3040 \nQ 2066 3103 1784 3103 \nQ 1356 3103 1142 2972 \nQ 928 2841 928 2578 \nQ 928 2378 1081 2264 \nQ 1234 2150 1697 2047 \nL 1894 2003 \nQ 2506 1872 2764 1633 \nQ 3022 1394 3022 966 \nQ 3022 478 2636 193 \nQ 2250 -91 1575 -91 \nQ 1294 -91 989 -36 \nQ 684 19 347 128 \nL 347 722 \nQ 666 556 975 473 \nQ 1284 391 1588 391 \nQ 1994 391 2212 530 \nQ 2431 669 2431 922 \nQ 2431 1156 2273 1281 \nQ 2116 1406 1581 1522 \nL 1381 1569 \nQ 847 1681 609 1914 \nQ 372 2147 372 2553 \nQ 372 3047 722 3315 \nQ 1072 3584 1716 3584 \nQ 2034 3584 2315 3537 \nQ 2597 3491 2834 3397 \nz\n\" transform=\"scale(0.015625)\"/>\n      <path id=\"DejaVuSans-65\" d=\"M 3597 1894 \nL 3597 1613 \nL 953 1613 \nQ 991 1019 1311 708 \nQ 1631 397 2203 397 \nQ 2534 397 2845 478 \nQ 3156 559 3463 722 \nL 3463 178 \nQ 3153 47 2828 -22 \nQ 2503 -91 2169 -91 \nQ 1331 -91 842 396 \nQ 353 884 353 1716 \nQ 353 2575 817 3079 \nQ 1281 3584 2069 3584 \nQ 2775 3584 3186 3129 \nQ 3597 2675 3597 1894 \nz\nM 3022 2063 \nQ 3016 2534 2758 2815 \nQ 2500 3097 2075 3097 \nQ 1594 3097 1305 2825 \nQ 1016 2553 972 2059 \nL 3022 2063 \nz\n\" transform=\"scale(0.015625)\"/>\n      <path id=\"DejaVuSans-20\" transform=\"scale(0.015625)\"/>\n      <path id=\"DejaVuSans-6d\" d=\"M 3328 2828 \nQ 3544 3216 3844 3400 \nQ 4144 3584 4550 3584 \nQ 5097 3584 5394 3201 \nQ 5691 2819 5691 2113 \nL 5691 0 \nL 5113 0 \nL 5113 2094 \nQ 5113 2597 4934 2840 \nQ 4756 3084 4391 3084 \nQ 3944 3084 3684 2787 \nQ 3425 2491 3425 1978 \nL 3425 0 \nL 2847 0 \nL 2847 2094 \nQ 2847 2600 2669 2842 \nQ 2491 3084 2119 3084 \nQ 1678 3084 1418 2786 \nQ 1159 2488 1159 1978 \nL 1159 0 \nL 581 0 \nL 581 3500 \nL 1159 3500 \nL 1159 2956 \nQ 1356 3278 1631 3431 \nQ 1906 3584 2284 3584 \nQ 2666 3584 2933 3390 \nQ 3200 3197 3328 2828 \nz\n\" transform=\"scale(0.015625)\"/>\n      <path id=\"DejaVuSans-70\" d=\"M 1159 525 \nL 1159 -1331 \nL 581 -1331 \nL 581 3500 \nL 1159 3500 \nL 1159 2969 \nQ 1341 3281 1617 3432 \nQ 1894 3584 2278 3584 \nQ 2916 3584 3314 3078 \nQ 3713 2572 3713 1747 \nQ 3713 922 3314 415 \nQ 2916 -91 2278 -91 \nQ 1894 -91 1617 61 \nQ 1341 213 1159 525 \nz\nM 3116 1747 \nQ 3116 2381 2855 2742 \nQ 2594 3103 2138 3103 \nQ 1681 3103 1420 2742 \nQ 1159 2381 1159 1747 \nQ 1159 1113 1420 752 \nQ 1681 391 2138 391 \nQ 2594 391 2855 752 \nQ 3116 1113 3116 1747 \nz\n\" transform=\"scale(0.015625)\"/>\n      <path id=\"DejaVuSans-6c\" d=\"M 603 4863 \nL 1178 4863 \nL 1178 0 \nL 603 0 \nL 603 4863 \nz\n\" transform=\"scale(0.015625)\"/>\n     </defs>\n     <use xlink:href=\"#DejaVuSans-44\"/>\n     <use xlink:href=\"#DejaVuSans-61\" x=\"77.001953\"/>\n     <use xlink:href=\"#DejaVuSans-74\" x=\"138.28125\"/>\n     <use xlink:href=\"#DejaVuSans-61\" x=\"177.490234\"/>\n     <use xlink:href=\"#DejaVuSans-73\" x=\"238.769531\"/>\n     <use xlink:href=\"#DejaVuSans-65\" x=\"290.869141\"/>\n     <use xlink:href=\"#DejaVuSans-74\" x=\"352.392578\"/>\n     <use xlink:href=\"#DejaVuSans-20\" x=\"391.601562\"/>\n     <use xlink:href=\"#DejaVuSans-73\" x=\"423.388672\"/>\n     <use xlink:href=\"#DejaVuSans-61\" x=\"475.488281\"/>\n     <use xlink:href=\"#DejaVuSans-6d\" x=\"536.767578\"/>\n     <use xlink:href=\"#DejaVuSans-70\" x=\"634.179688\"/>\n     <use xlink:href=\"#DejaVuSans-6c\" x=\"697.65625\"/>\n     <use xlink:href=\"#DejaVuSans-65\" x=\"725.439453\"/>\n     <use xlink:href=\"#DejaVuSans-73\" x=\"786.962891\"/>\n    </g>\n   </g>\n   <g id=\"legend_1\">\n    <g id=\"patch_7\">\n     <path d=\"M 199.891562 150.994063 \nL 274.524844 150.994063 \nQ 276.724844 150.994063 276.724844 148.794063 \nL 276.724844 117.602188 \nQ 276.724844 115.402188 274.524844 115.402188 \nL 199.891562 115.402188 \nQ 197.691562 115.402188 197.691562 117.602188 \nL 197.691562 148.794063 \nQ 197.691562 150.994063 199.891562 150.994063 \nz\n\" style=\"fill: #eaeaf2; opacity: 0.8; stroke: #cccccc; stroke-linejoin: miter\"/>\n    </g>\n    <g id=\"PathCollection_3\">\n     <g>\n      <use xlink:href=\"#m47cf98becd\" x=\"213.091562\" y=\"125.272969\" style=\"fill: #4c72b0; stroke: #333333\"/>\n     </g>\n    </g>\n    <g id=\"text_15\">\n     <!-- Class 0 -->\n     <g style=\"fill: #262626\" transform=\"translate(232.891562 128.160469) scale(0.11 -0.11)\">\n      <defs>\n       <path id=\"DejaVuSans-43\" d=\"M 4122 4306 \nL 4122 3641 \nQ 3803 3938 3442 4084 \nQ 3081 4231 2675 4231 \nQ 1875 4231 1450 3742 \nQ 1025 3253 1025 2328 \nQ 1025 1406 1450 917 \nQ 1875 428 2675 428 \nQ 3081 428 3442 575 \nQ 3803 722 4122 1019 \nL 4122 359 \nQ 3791 134 3420 21 \nQ 3050 -91 2638 -91 \nQ 1578 -91 968 557 \nQ 359 1206 359 2328 \nQ 359 3453 968 4101 \nQ 1578 4750 2638 4750 \nQ 3056 4750 3426 4639 \nQ 3797 4528 4122 4306 \nz\n\" transform=\"scale(0.015625)\"/>\n      </defs>\n      <use xlink:href=\"#DejaVuSans-43\"/>\n      <use xlink:href=\"#DejaVuSans-6c\" x=\"69.824219\"/>\n      <use xlink:href=\"#DejaVuSans-61\" x=\"97.607422\"/>\n      <use xlink:href=\"#DejaVuSans-73\" x=\"158.886719\"/>\n      <use xlink:href=\"#DejaVuSans-73\" x=\"210.986328\"/>\n      <use xlink:href=\"#DejaVuSans-20\" x=\"263.085938\"/>\n      <use xlink:href=\"#DejaVuSans-30\" x=\"294.873047\"/>\n     </g>\n    </g>\n    <g id=\"PathCollection_4\">\n     <g>\n      <use xlink:href=\"#m5db6140b3c\" x=\"213.091562\" y=\"141.418906\" style=\"fill: #dd8452; stroke: #333333\"/>\n     </g>\n    </g>\n    <g id=\"text_16\">\n     <!-- Class 1 -->\n     <g style=\"fill: #262626\" transform=\"translate(232.891562 144.306406) scale(0.11 -0.11)\">\n      <use xlink:href=\"#DejaVuSans-43\"/>\n      <use xlink:href=\"#DejaVuSans-6c\" x=\"69.824219\"/>\n      <use xlink:href=\"#DejaVuSans-61\" x=\"97.607422\"/>\n      <use xlink:href=\"#DejaVuSans-73\" x=\"158.886719\"/>\n      <use xlink:href=\"#DejaVuSans-73\" x=\"210.986328\"/>\n      <use xlink:href=\"#DejaVuSans-20\" x=\"263.085938\"/>\n      <use xlink:href=\"#DejaVuSans-31\" x=\"294.873047\"/>\n     </g>\n    </g>\n   </g>\n  </g>\n </g>\n <defs>\n  <clipPath id=\"p233d4b0a7f\">\n   <rect x=\"59.024844\" y=\"22.318125\" width=\"223.2\" height=\"221.76\"/>\n  </clipPath>\n </defs>\n</svg>\n",
            "application/pdf": "[encoded data removed]"
          },
          "metadata": {}
        }
      ]
    },
    {
      "cell_type": "code",
      "source": [
        "# data loader\n",
        "data_loader = data.DataLoader(dataset, batch_size=8, shuffle=True)\n",
        "\n",
        "# next(iter(...)) catches the first batch of the data loader\n",
        "# If shuffle is True, this will return a different batch every time we run this cell\n",
        "# For iterating over the whole dataset, we can simple use \"for batch in data_loader: ...\"\n",
        "data_inputs, data_labels = next(iter(data_loader))"
      ],
      "metadata": {
        "id": "0rhECOdgdMXZ"
      },
      "execution_count": null,
      "outputs": []
    },
    {
      "cell_type": "code",
      "source": [
        "# The shape of the outputs are [batch_size, d_1,...,d_N] where d_1,...,d_N are the\n",
        "# dimensions of the data point returned from the dataset class\n",
        "print(\"Data inputs\", data_inputs.shape, \"\\n\", data_inputs)\n",
        "print(\"Data labels\", data_labels.shape, \"\\n\", data_labels)"
      ],
      "metadata": {
        "colab": {
          "base_uri": "https://localhost:8080/"
        },
        "id": "36PLTAxWic9-",
        "outputId": "e45fa8ad-50e7-4c66-9430-30782af6b267"
      },
      "execution_count": null,
      "outputs": [
        {
          "output_type": "stream",
          "name": "stdout",
          "text": [
            "Data inputs torch.Size([8, 2]) \n",
            " tensor([[-0.0241,  0.0122],\n",
            "        [ 1.1574,  1.1875],\n",
            "        [ 1.0303,  0.0019],\n",
            "        [ 0.1365,  1.0304],\n",
            "        [ 1.0770,  0.9866],\n",
            "        [ 0.9080,  1.1508],\n",
            "        [ 0.8787,  0.0201],\n",
            "        [-0.1464, -0.0739]])\n",
            "Data labels torch.Size([8]) \n",
            " tensor([0, 0, 1, 1, 0, 0, 1, 0])\n"
          ]
        }
      ]
    },
    {
      "cell_type": "code",
      "source": [
        "'''\n",
        "Optimization\n",
        "After defining model and the dataset, prepare optimization model.\n",
        "During training, we perform following steps:\n",
        "1. Get a batch from dataset loader.\n",
        "2. Obtain the predictions from the model for the batch.\n",
        "3. Calculate the loss based on the difference between prediction and labels.\n",
        "4. Backpropergation: calculate the gradients for every parameter with respect to the loss.\n",
        "5. Update parameters of the model in the direction of the gradients.\n",
        "'''\n",
        "\n",
        "# Loss model\n",
        "# For this binary classification, can use Binary Cross Entropy (BCE):\n",
        "# In pytorch:  nn.BCELoss(), nn.BCEWithLogitsLoss()\n",
        "# nn.BCELoss expects the inputs x to be in the range [0,1], i.e. the output of a sigmoid.\n",
        "# nn.BCEWithLogitsLoss: combines a sigmoid layer and the BCE loss in a single class.\n",
        "#     This version is numerically more stable than using a plain Sigmoid followed by a BCE loss\n",
        "#     because of the logarithms applied in the loss function. (So no Sigmoid again to output!!!)\n",
        "# Thus, we use BCE log loss here.\n",
        "loss_module = nn.BCEWithLogitsLoss()\n",
        "\n",
        "'''\n",
        "Stochastic gradient descent\n",
        "For updating the parameters, PyTorch provides the package:\n",
        "   torch.optim, that has most popular optimizers implemented.\n",
        "Just apply simplest optim first: torch.optim.SGD() ---- Stochastic Gradient Descent\n",
        "update parameter by: parameter - gradients * learning rate\n",
        "'''\n",
        "# Input to the optimizer are the parameters of the model: model.parameters()\n",
        "optimizer = torch.optim.SGD(model.parameters(), lr=0.1)\n",
        "# optimizer has two functions:\n",
        "#   optimizer.step(): update parameters\n",
        "#   optimizer.zero_grad(): sets the gradients of all parameters to zero.\n",
        "#         A crucial pre-step before performing backpropagation.\n",
        "#         If we call the backward function on the loss while the parameter gradients are non-zero from the previous batch,\n",
        "#                    the new gradients would actually be added to the previous ones instead of overwriting them.\n",
        "#         Remember to call optimizer.zero_grad() before calculating the gradients of a batch."
      ],
      "metadata": {
        "id": "0SJSbetk1oQA"
      },
      "execution_count": null,
      "outputs": []
    },
    {
      "cell_type": "code",
      "source": [
        "loss_module"
      ],
      "metadata": {
        "colab": {
          "base_uri": "https://localhost:8080/"
        },
        "id": "K7K_JgdAolOc",
        "outputId": "29ab70d7-a98d-4a68-8d4f-061cab1b8db5"
      },
      "execution_count": null,
      "outputs": [
        {
          "output_type": "execute_result",
          "data": {
            "text/plain": [
              "BCEWithLogitsLoss()"
            ]
          },
          "metadata": {},
          "execution_count": 23
        }
      ]
    },
    {
      "cell_type": "code",
      "source": [
        "optimizer"
      ],
      "metadata": {
        "colab": {
          "base_uri": "https://localhost:8080/"
        },
        "id": "ZwwhB8_9ojk0",
        "outputId": "8834930a-33f4-4dea-d982-93647481a5a9"
      },
      "execution_count": null,
      "outputs": [
        {
          "output_type": "execute_result",
          "data": {
            "text/plain": [
              "SGD (\n",
              "Parameter Group 0\n",
              "    dampening: 0\n",
              "    differentiable: False\n",
              "    foreach: None\n",
              "    lr: 0.1\n",
              "    maximize: False\n",
              "    momentum: 0\n",
              "    nesterov: False\n",
              "    weight_decay: 0\n",
              ")"
            ]
          },
          "metadata": {},
          "execution_count": 24
        }
      ]
    },
    {
      "cell_type": "code",
      "source": [
        "device = torch.device(\"cuda\") if torch.cuda.is_available() else torch.device(\"cpu\")\n",
        "print(\"Device\", device)\n",
        "\n",
        "x = torch.zeros(2, 3)\n",
        "x = x.to(device)\n",
        "print(\"X\", x)"
      ],
      "metadata": {
        "colab": {
          "base_uri": "https://localhost:8080/"
        },
        "id": "GjonzpPPqsP9",
        "outputId": "e36d7541-b0a4-4932-afe4-313ab3251b7b"
      },
      "execution_count": null,
      "outputs": [
        {
          "output_type": "stream",
          "name": "stdout",
          "text": [
            "Device cpu\n",
            "X tensor([[0., 0., 0.],\n",
            "        [0., 0., 0.]])\n"
          ]
        }
      ]
    },
    {
      "cell_type": "code",
      "source": [
        "device # I don't use gpu here"
      ],
      "metadata": {
        "colab": {
          "base_uri": "https://localhost:8080/"
        },
        "id": "D3to4F3WqS0i",
        "outputId": "fd1f120e-b0d7-45af-d371-23307ba6ff0e"
      },
      "execution_count": null,
      "outputs": [
        {
          "output_type": "execute_result",
          "data": {
            "text/plain": [
              "device(type='cpu')"
            ]
          },
          "metadata": {},
          "execution_count": 29
        }
      ]
    },
    {
      "cell_type": "code",
      "source": [
        "x1 = torch.rand((1,3,4,))\n",
        "print(x1.size())\n",
        "x1 = x1.squeeze(dim=2) # only apply squeeze on choosed dim, ex: dim=2, will jump dim 0 that = 1, only deal with dim 2.\n",
        "print(x1.size())\n",
        "x1 = x1.squeeze() # only need to input dim=xxx\n",
        "print(x1.shape)"
      ],
      "metadata": {
        "colab": {
          "base_uri": "https://localhost:8080/"
        },
        "id": "PembnoPnrWsz",
        "outputId": "69fe5edf-e0cf-4274-ca0e-fb16b09253e3"
      },
      "execution_count": null,
      "outputs": [
        {
          "output_type": "stream",
          "name": "stdout",
          "text": [
            "torch.Size([1, 3, 4])\n",
            "torch.Size([1, 3, 4])\n",
            "torch.Size([3, 4])\n"
          ]
        }
      ]
    },
    {
      "cell_type": "code",
      "source": [
        "x2 = torch.rand((1,3,4))\n",
        "x2"
      ],
      "metadata": {
        "colab": {
          "base_uri": "https://localhost:8080/"
        },
        "id": "K1IEXq6ws4cG",
        "outputId": "2aad300d-eb71-410a-fd75-5a9a05de0660"
      },
      "execution_count": null,
      "outputs": [
        {
          "output_type": "execute_result",
          "data": {
            "text/plain": [
              "tensor([[[0.8567, 0.6675, 0.8368, 0.0241],\n",
              "         [0.2808, 0.5515, 0.3931, 0.1378],\n",
              "         [0.4753, 0.4273, 0.1733, 0.8669]]])"
            ]
          },
          "metadata": {},
          "execution_count": 43
        }
      ]
    },
    {
      "cell_type": "code",
      "source": [
        "x1"
      ],
      "metadata": {
        "colab": {
          "base_uri": "https://localhost:8080/"
        },
        "id": "TNRpOO-ItFfm",
        "outputId": "8d7a7989-4296-4447-96a6-23281520e6d4"
      },
      "execution_count": null,
      "outputs": [
        {
          "output_type": "execute_result",
          "data": {
            "text/plain": [
              "tensor([[0.8463, 0.5109, 0.0338, 0.5039],\n",
              "        [0.6665, 0.8478, 0.0290, 0.8987],\n",
              "        [0.9165, 0.7328, 0.1475, 0.0937]])"
            ]
          },
          "metadata": {},
          "execution_count": 41
        }
      ]
    },
    {
      "cell_type": "code",
      "source": [
        "x3 = torch.rand((3,1))\n",
        "print(x3)\n",
        "x3 = x3.squeeze() # only apply squeeze on choosed dim, ex: dim=2, will jump dim 0 that = 1, only deal with dim 2.\n",
        "print(x3)"
      ],
      "metadata": {
        "colab": {
          "base_uri": "https://localhost:8080/"
        },
        "id": "KKOZP8IptSOf",
        "outputId": "5fb59d96-624a-480e-bd04-6211fc6459e6"
      },
      "execution_count": null,
      "outputs": [
        {
          "output_type": "stream",
          "name": "stdout",
          "text": [
            "tensor([[0.3432],\n",
            "        [0.5499],\n",
            "        [0.8694]])\n",
            "tensor([0.3432, 0.5499, 0.8694])\n"
          ]
        }
      ]
    },
    {
      "cell_type": "code",
      "source": [
        "model.train()"
      ],
      "metadata": {
        "colab": {
          "base_uri": "https://localhost:8080/"
        },
        "id": "6F89jBpBvo0F",
        "outputId": "0bd9ee0e-fc23-433c-ae47-41adb83eb046"
      },
      "execution_count": null,
      "outputs": [
        {
          "output_type": "execute_result",
          "data": {
            "text/plain": [
              "SimpleClassifier(\n",
              "  (linear1): Linear(in_features=2, out_features=4, bias=True)\n",
              "  (act_fn): Tanh()\n",
              "  (linear2): Linear(in_features=4, out_features=1, bias=True)\n",
              ")"
            ]
          },
          "metadata": {},
          "execution_count": 45
        }
      ]
    },
    {
      "cell_type": "code",
      "source": [
        "'''\n",
        "Train model\n",
        "1. Create larger dataset with larger batch:\n",
        "'''\n",
        "train_dataset = XORDataset(size=2500)\n",
        "train_data_loader = data.DataLoader(train_dataset, batch_size=128, shuffle=True)\n",
        "\n",
        "'''\n",
        "1.5: Push model to GPU if have\n",
        "'''\n",
        "# Push model to device. Has to be only done once\n",
        "model.to(device)\n",
        "\n",
        "# Then use model.train() to set model to training mode.\n",
        "def train_model(model, optimizer, data_loader, loss_module, num_epochs = 100):\n",
        "  # Set model to train mode\n",
        "  model.train()\n",
        "\n",
        "  for epoch in tqdm(range(num_epochs)):\n",
        "    i = 0\n",
        "    for data_inputs, data_labels in data_loader:\n",
        "\n",
        "      # 1. If use GPU, move data to device.\n",
        "      # A batch every time (128 data points.)\n",
        "      data_inputs = data_inputs.to(device)\n",
        "      data_labels = data_labels.to(device)\n",
        "\n",
        "      # 2. Run model on inpit data.\n",
        "      preds = model(data_inputs)\n",
        "      preds = preds.squeeze(dim=1) # Output is [Batch size, 1], but we want [Batch size]\n",
        "\n",
        "      # 3. Calculate loss\n",
        "      loss = loss_module(preds, data_labels.float()) # a number like: tensor(0.0048, grad_fn=<BinaryCrossEntropyWithLogitsBackward0>)\n",
        "      #print(\"Loss:\", loss)\n",
        "\n",
        "      # 4. Opyimization: perform backpropergation\n",
        "      # Before calculating gradients, make sure they are zero.\n",
        "      # The gradients won't be overwritten, but actually added to the existing ones.\n",
        "      #print(\"Optimizer:\", optimizer)\n",
        "      optimizer.zero_grad()\n",
        "      #print(\"Optimizer 0:\", optimizer)\n",
        "      loss.backward()\n",
        "\n",
        "      # 5. Update parameters\n",
        "      #for param in model.parameters():\n",
        "        #print(\"Para:\" , param.grad)\n",
        "\n",
        "      optimizer.step() # The gradient save at parameter.grid, so optimizer do not need to access loss, just access model. !!!!!!\n",
        "\n",
        "      #for param in model.parameters():\n",
        "        #print(\"Para optim:\", param.grad)"
      ],
      "metadata": {
        "id": "RWqA3PHy1oSy"
      },
      "execution_count": null,
      "outputs": []
    },
    {
      "cell_type": "code",
      "source": [
        "# And they do not set device as parameters\n",
        "train_model(model, optimizer, train_data_loader, loss_module) # num_epoch = 100"
      ],
      "metadata": {
        "colab": {
          "base_uri": "https://localhost:8080/",
          "height": 49,
          "referenced_widgets": [
            "52bb423ade704e398c079ebce1496d55",
            "4f24f15fd8f7435c97b4ccdcf6ae96bf",
            "1a1bc5a8966a43a7b577ffa3cf5db9a2",
            "09c58559ec1c4b8ca305e78ab5b0359b",
            "9860e24060d24623a0d48a2b716ddf70",
            "f15e7404f9034c3a909610d3a00125f2",
            "2858e7214d6844259b4f531a8c63142a",
            "7bad0489f240433889338eb3ebf713ae",
            "c084d5443cd14b6cb8c9e7efb8eed250",
            "075939546e674e22ad4cf2f5cf86efe8",
            "bb05ec5b3fb6484983cbefa0443af188"
          ]
        },
        "id": "aYBB7DXQ1oVy",
        "outputId": "01939075-1fb9-4fee-a96c-7c6404a891d4"
      },
      "execution_count": null,
      "outputs": [
        {
          "output_type": "display_data",
          "data": {
            "text/plain": [
              "  0%|          | 0/100 [00:00<?, ?it/s]"
            ],
            "application/vnd.jupyter.widget-view+json": {
              "version_major": 2,
              "version_minor": 0,
              "model_id": "52bb423ade704e398c079ebce1496d55"
            }
          },
          "metadata": {}
        }
      ]
    },
    {
      "cell_type": "code",
      "source": [
        "#train_model(model, optimizer, train_data_loader, loss_module) # num_epoch = 100\n",
        "'''\n",
        "Print output:\n",
        "\n",
        "Loss: tensor(0.0045, grad_fn=<BinaryCrossEntropyWithLogitsBackward0>)\n",
        "Optimizer: SGD (\n",
        "Parameter Group 0\n",
        "    dampening: 0\n",
        "    differentiable: False\n",
        "    foreach: None\n",
        "    lr: 0.1\n",
        "    maximize: False\n",
        "    momentum: 0\n",
        "    nesterov: False\n",
        "    weight_decay: 0\n",
        ")\n",
        "Optimizer 0: SGD (\n",
        "Parameter Group 0\n",
        "    dampening: 0\n",
        "    differentiable: False\n",
        "    foreach: None\n",
        "    lr: 0.1\n",
        "    maximize: False\n",
        "    momentum: 0\n",
        "    nesterov: False\n",
        "    weight_decay: 0\n",
        ")\n",
        "Para: tensor([[-6.0364e-04, -1.0661e-04],\n",
        "        [-2.4973e-05,  9.3634e-04],\n",
        "        [ 3.3315e-05,  1.0488e-03],\n",
        "        [ 4.4654e-04,  5.5716e-04]])\n",
        "Para: tensor([-0.0012,  0.0002,  0.0002, -0.0002])\n",
        "Para: tensor([[ 0.0019, -0.0008, -0.0012,  0.0008]])\n",
        "Para: tensor([-0.0006])\n",
        "Para optim: tensor([[-6.0364e-04, -1.0661e-04],\n",
        "        [-2.4973e-05,  9.3634e-04],\n",
        "        [ 3.3315e-05,  1.0488e-03],\n",
        "        [ 4.4654e-04,  5.5716e-04]])\n",
        "Para optim: tensor([-0.0012,  0.0002,  0.0002, -0.0002])\n",
        "Para optim: tensor([[ 0.0019, -0.0008, -0.0012,  0.0008]])\n",
        "Para optim: tensor([-0.0006])\n",
        ")\n",
        "'''"
      ],
      "metadata": {
        "colab": {
          "base_uri": "https://localhost:8080/",
          "height": 143
        },
        "id": "cYxg-70m1oYk",
        "outputId": "5c1e8e24-c63c-4fb8-e402-36d6e2f3410c"
      },
      "execution_count": null,
      "outputs": [
        {
          "output_type": "execute_result",
          "data": {
            "text/plain": [
              "'\\nPara optim: tensor([ 0.0006, -0.0010, -0.0018,  0.0008])\\nPara optim: tensor([[ 0.0014, -0.0004, -0.0008,  0.0016]])\\nPara optim: tensor([-0.0017])\\nLoss: tensor(0.0045, grad_fn=<BinaryCrossEntropyWithLogitsBackward0>)\\nOptimizer: SGD (\\nParameter Group 0\\n    dampening: 0\\n    differentiable: False\\n    foreach: None\\n    lr: 0.1\\n    maximize: False\\n    momentum: 0\\n    nesterov: False\\n    weight_decay: 0\\n)\\nOptimizer 0: SGD (\\nParameter Group 0\\n    dampening: 0\\n    differentiable: False\\n    foreach: None\\n    lr: 0.1\\n    maximize: False\\n    momentum: 0\\n    nesterov: False\\n    weight_decay: 0\\n)\\nPara: tensor([[-6.0364e-04, -1.0661e-04],\\n        [-2.4973e-05,  9.3634e-04],\\n        [ 3.3315e-05,  1.0488e-03],\\n        [ 4.4654e-04,  5.5716e-04]])\\nPara: tensor([-0.0012,  0.0002,  0.0002, -0.0002])\\nPara: tensor([[ 0.0019, -0.0008, -0.0012,  0.0008]])\\nPara: tensor([-0.0006])\\nPara optim: tensor([[-6.0364e-04, -1.0661e-04],\\n        [-2.4973e-05,  9.3634e-04],\\n        [ 3.3315e-05,  1.0488e-03],\\n        [ 4.4654e-04,  5.5716e-04]])\\nPara optim: tensor([-0.0012,  0.0002,  0.0002, -0.0002])\\nPara optim: tensor([[ 0.0019, -0.0008, -0.0012,  0.0008]])\\nPara optim: tensor([-0.0006])\\nLoss: tensor(0.0048, grad_fn=<BinaryCrossEntropyWithLogitsBackward0>)\\nOptimizer: SGD (\\nParameter Group 0\\n    dampening: 0\\n    differentiable: False\\n    foreach: None\\n    lr: 0.1\\n    maximize: False\\n    momentum: 0\\n    nesterov: False\\n    weight_decay: 0\\n)\\n'"
            ],
            "application/vnd.google.colaboratory.intrinsic+json": {
              "type": "string"
            }
          },
          "metadata": {},
          "execution_count": 1
        }
      ]
    },
    {
      "cell_type": "code",
      "source": [
        "model.state_dict()"
      ],
      "metadata": {
        "colab": {
          "base_uri": "https://localhost:8080/"
        },
        "id": "jkgJbbMMFlpB",
        "outputId": "cf0cb70d-02f0-4e14-e106-361da0375d39"
      },
      "execution_count": null,
      "outputs": [
        {
          "output_type": "execute_result",
          "data": {
            "text/plain": [
              "OrderedDict([('linear1.weight',\n",
              "              tensor([[ 3.8493, -3.5788],\n",
              "                      [ 1.9084, -2.3075],\n",
              "                      [ 3.0288, -3.4146],\n",
              "                      [-1.3441, -1.3772]])),\n",
              "             ('linear1.bias', tensor([ 1.6413, -0.8567, -1.3824, -0.2203])),\n",
              "             ('linear2.weight',\n",
              "              tensor([[-6.1791,  2.1787,  4.5000, -2.8766]])),\n",
              "             ('linear2.bias', tensor([3.5151]))])"
            ]
          },
          "metadata": {},
          "execution_count": 66
        }
      ]
    },
    {
      "cell_type": "code",
      "source": [
        "model.state_dict()['linear1.bias']"
      ],
      "metadata": {
        "colab": {
          "base_uri": "https://localhost:8080/"
        },
        "id": "GEepCXAyGHTa",
        "outputId": "99137f55-c5ff-4d28-a3d7-07f209315187"
      },
      "execution_count": null,
      "outputs": [
        {
          "output_type": "execute_result",
          "data": {
            "text/plain": [
              "tensor([ 1.6413, -0.8567, -1.3824, -0.2203])"
            ]
          },
          "metadata": {},
          "execution_count": 68
        }
      ]
    },
    {
      "cell_type": "code",
      "source": [
        "'''\n",
        "Save model\n",
        "After finish training a model, we save the model to disk so that we can load the same weights at a later time.\n",
        "Extract 'state_dict' from the model which contains all learnable parameters.\n",
        "'''\n",
        "state_dict = model.state_dict()\n",
        "print(state_dict)"
      ],
      "metadata": {
        "id": "u2ZFByNnEXx6",
        "colab": {
          "base_uri": "https://localhost:8080/"
        },
        "outputId": "a0480330-3f78-48a6-d5e1-e5f8e2156d3d"
      },
      "execution_count": null,
      "outputs": [
        {
          "output_type": "stream",
          "name": "stdout",
          "text": [
            "OrderedDict([('linear1.weight', tensor([[ 3.8493, -3.5788],\n",
            "        [ 1.9084, -2.3075],\n",
            "        [ 3.0288, -3.4146],\n",
            "        [-1.3441, -1.3772]])), ('linear1.bias', tensor([ 1.6413, -0.8567, -1.3824, -0.2203])), ('linear2.weight', tensor([[-6.1791,  2.1787,  4.5000, -2.8766]])), ('linear2.bias', tensor([3.5151]))])\n"
          ]
        }
      ]
    },
    {
      "cell_type": "code",
      "source": [
        "# To save the state dictionary, we can use torch.save:\n",
        "# torch.save(object, filename). For the filename, any extension can be used\n",
        "torch.save(state_dict, \"our_model.tar\")\n",
        "\n",
        "# To load the state_dict, we use: torch_load\n",
        "# load_state_dict(): overwrite parameters with the new values.\n",
        "\n",
        "# Load dict\n",
        "state_dict = torch.load(\"our_model.tar\")\n",
        "\n",
        "#Create new model and load the state\n",
        "new_model = SimpleClassifier(num_inputs=2, num_hidden=4, num_outputs=1)\n",
        "new_model.load_state_dict(state_dict)\n",
        "\n",
        "# Verify that the parameters are the same\n",
        "print(\"Original model\\n\", model.state_dict())\n",
        "print(\"\\nLoaded model\\n\", new_model.state_dict())"
      ],
      "metadata": {
        "id": "cZrxw9jb1obb"
      },
      "execution_count": null,
      "outputs": []
    },
    {
      "cell_type": "code",
      "source": [],
      "metadata": {
        "colab": {
          "base_uri": "https://localhost:8080/",
          "height": 181
        },
        "id": "qLRcWf3n1oek",
        "outputId": "f48a2cc1-17cd-4087-e144-6fec42525030"
      },
      "execution_count": null,
      "outputs": [
        {
          "output_type": "error",
          "ename": "AttributeError",
          "evalue": "ignored",
          "traceback": [
            "\u001b[0;31m---------------------------------------------------------------------------\u001b[0m",
            "\u001b[0;31mAttributeError\u001b[0m                            Traceback (most recent call last)",
            "\u001b[0;32m<ipython-input-59-f7d35533bbcd>\u001b[0m in \u001b[0;36m<cell line: 1>\u001b[0;34m()\u001b[0m\n\u001b[0;32m----> 1\u001b[0;31m \u001b[0mmodel\u001b[0m\u001b[0;34m.\u001b[0m\u001b[0mparameters\u001b[0m\u001b[0;34m(\u001b[0m\u001b[0;34m)\u001b[0m\u001b[0;34m.\u001b[0m\u001b[0mgrad\u001b[0m\u001b[0;34m\u001b[0m\u001b[0;34m\u001b[0m\u001b[0m\n\u001b[0m",
            "\u001b[0;31mAttributeError\u001b[0m: 'generator' object has no attribute 'grad'"
          ]
        }
      ]
    },
    {
      "cell_type": "code",
      "source": [],
      "metadata": {
        "id": "WC_Mz5LPBv94"
      },
      "execution_count": null,
      "outputs": []
    }
  ]
}